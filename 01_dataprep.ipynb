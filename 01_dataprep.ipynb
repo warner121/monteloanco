{
 "cells": [
  {
   "cell_type": "code",
   "execution_count": 1,
   "id": "18a2e9ba-6dcd-4806-b8a5-ff84bf6f3b38",
   "metadata": {},
   "outputs": [],
   "source": [
    "import numpy as np\n",
    "import pandas as pd\n",
    "import seaborn as sns\n",
    "import matplotlib.pyplot as plt\n",
    "\n",
    "from tqdm.auto import tqdm\n",
    "tqdm.pandas()"
   ]
  },
  {
   "cell_type": "markdown",
   "id": "5c412784-b037-446e-ac21-41175a382c53",
   "metadata": {},
   "source": [
    "### Exploratory data analysis of the Lending Club peer-to-peer loan portfolio\n",
    "\n",
    "Lending Club, founded in 2006, was a pioneering peer-to-peer (P2P) lending platform in the US. It provided a marketplace where individual investors could fund loans directly for borrowers seeking personal loans, debt consolidation, or other financial needs. A snapshot of their lending data taken in April 2019 (featuring originations to the end of 2018) can be obtaing from kaggle:\n",
    "```\n",
    "#!/bin/bash\n",
    "curl -L -o ./lending-club.zip https://www.kaggle.com/api/v1/datasets/download/wordsforthewise/lending-club\n",
    "unzip lending-club.zip\n",
    "```\n",
    "\n",
    "First, let's load the data into a pandas dataframe so we can do some pre-processing so we can use it to train our model."
   ]
  },
  {
   "cell_type": "code",
   "execution_count": 2,
   "id": "4b38fa0c-8998-4374-8482-99f0c6230168",
   "metadata": {},
   "outputs": [],
   "source": [
    "df = pd.read_csv('../lendingclub/accepted_2007_to_2018Q4.csv.gz', low_memory=False)"
   ]
  },
  {
   "cell_type": "markdown",
   "id": "5e72b2b4-b819-4009-b0ba-85a1cc7df2b2",
   "metadata": {},
   "source": [
    "Drop loans with missing issue date."
   ]
  },
  {
   "cell_type": "code",
   "execution_count": 3,
   "id": "69feb307-7e5d-404b-9334-cba6c1d95e98",
   "metadata": {},
   "outputs": [
    {
     "data": {
      "text/plain": [
       "33"
      ]
     },
     "execution_count": 3,
     "metadata": {},
     "output_type": "execute_result"
    }
   ],
   "source": [
    "df.issue_d.isna().sum()"
   ]
  },
  {
   "cell_type": "code",
   "execution_count": 4,
   "id": "a435e4d4-2921-4651-bcb7-4e89151b8c3b",
   "metadata": {},
   "outputs": [],
   "source": [
    "df = df[df.issue_d.notna()].reset_index(drop=True)"
   ]
  },
  {
   "cell_type": "markdown",
   "id": "91a7a49e-bb76-405b-92e7-7133a8fb0175",
   "metadata": {},
   "source": [
    "Convert timestamps to appropriate data types."
   ]
  },
  {
   "cell_type": "code",
   "execution_count": 5,
   "id": "e0a85d70-0842-45d4-918d-0b21c5505f73",
   "metadata": {},
   "outputs": [],
   "source": [
    "df.issue_d = pd.to_datetime(df.issue_d, format='%b-%Y')\n",
    "df.last_pymnt_d = pd.to_datetime(df.last_pymnt_d, format='%b-%Y')"
   ]
  },
  {
   "cell_type": "markdown",
   "id": "2a638f05-584a-4bb8-a9ed-ad886ebcdcaa",
   "metadata": {},
   "source": [
    "If no payments have been made at all, ensure `last_pymnt_d` is populated even if that's with the date of issue. Bump all payments in the first month of a loan to the following month."
   ]
  },
  {
   "cell_type": "code",
   "execution_count": 6,
   "id": "ecb94296-1206-4ebd-a3fc-f2385831e548",
   "metadata": {},
   "outputs": [],
   "source": [
    "df.last_pymnt_d = df.last_pymnt_d.combine_first(df.issue_d)\n",
    "df.loc[df.issue_d==df.last_pymnt_d, 'last_pymnt_d'] = df.last_pymnt_d + pd.tseries.offsets.DateOffset(months=1)"
   ]
  },
  {
   "cell_type": "markdown",
   "id": "154c9712-1cf4-49c0-81e0-bbbadb4dfce7",
   "metadata": {},
   "source": [
    "Determine date on which snapshot was created."
   ]
  },
  {
   "cell_type": "code",
   "execution_count": 7,
   "id": "71d24a63-0b75-46db-be79-eb91f5049616",
   "metadata": {},
   "outputs": [],
   "source": [
    "df['snapshot_d'] = df.last_pymnt_d.max()"
   ]
  },
  {
   "attachments": {},
   "cell_type": "markdown",
   "id": "47fce02c-b670-4617-8466-62f1726dee13",
   "metadata": {},
   "source": [
    "### Limitations of a single monthly snapshot\n",
    "\n",
    "The dataset’s single monthly snapshot limits our ability to analyze loans consistently across their lifecycle—comparing new loans (e.g., 3 months old) with closed ones (e.g., 10+ years old) is like judging a film by one frame. For closed loans, did they repay early, late due to deferments, or because of arrears? For \"current\" loans, which faced past struggles or exceed their 60-month term? A single snapshot obscures these dynamics. Credit risk modeling demands time series data to fairly compare loans (e.g., 2007 vs. 2017 vintages) at equivalent lifecycle stages and to reconstruct behaviors like: payment momentum, deferment impacts, or hidden delinquency patterns, that define true risk.\n",
    "\n",
    "To bridge gaps, we’ll simulate a monthly time series spanning the full term of the loan, or to April 2019, whichever comes sooner."
   ]
  },
  {
   "cell_type": "code",
   "execution_count": 8,
   "id": "81dccd11-445c-483f-ba5e-3c3af74df650",
   "metadata": {},
   "outputs": [],
   "source": [
    "df['term_numeric'] = pd.to_numeric(df.term.str.replace('months', ''), errors='coerce')\n",
    "df['n_report_d'] = df['snapshot_d'].dt.to_period('M').astype('int64') - df['issue_d'].dt.to_period('M').astype('int64')\n",
    "df.n_report_d = df[['term_numeric', 'n_report_d']].min(axis=1)"
   ]
  },
  {
   "cell_type": "markdown",
   "id": "c8ab64f0-011e-4eab-8dc4-aa6dd6536fc0",
   "metadata": {},
   "source": [
    "We need to sample `n_report_d` monthly timesteps, starting from the date of issue. Now we determine the total amount paid prior to charge-off."
   ]
  },
  {
   "cell_type": "code",
   "execution_count": 9,
   "id": "f2c1c2b0-52d3-4443-90b8-4a2a6872718e",
   "metadata": {},
   "outputs": [],
   "source": [
    "df['total_pre_chargeoff'] = df.total_pymnt - df.recoveries"
   ]
  },
  {
   "attachments": {},
   "cell_type": "markdown",
   "id": "f7967acb-b62b-4f10-bc6f-136a1036b820",
   "metadata": {},
   "source": [
    "### Inflate the dataset to represent the full monthly timeseries from the point of origination up to the true report date\n",
    "\n",
    "By enumerating a time series of expected installments from each loan’s issue date to the April 2019 snapshot, we create a dynamic timeline of inferred payments.\n",
    "\n",
    "This basic attribution model serves as a starting point. Using only the issue date, total amount received, and the date and value of the last payment, we create a simple interpolation of payments that respects these 4 facts. "
   ]
  },
  {
   "cell_type": "code",
   "execution_count": 10,
   "id": "c9bd6d09-b197-4d98-a24a-10329a995ceb",
   "metadata": {},
   "outputs": [],
   "source": [
    "def basic_pymnt_attr(\n",
    "    issue_d, \n",
    "    n_report_d, \n",
    "    last_pymnt_d,\n",
    "    total_pre_chargeoff,\n",
    "    last_pymnt_amnt,\n",
    "    **kwargs):\n",
    "\n",
    "    # numerate a sequence of report dates from issue to snapshot date\n",
    "    report_d = pd.date_range(start=issue_d, periods=n_report_d+1, freq='MS', inclusive='right')\n",
    "    n_pymnt = (report_d < last_pymnt_d).sum()\n",
    "\n",
    "    # spread the total pymnt made over the vector of months paid\n",
    "    with np.errstate(divide='ignore', invalid='ignore'):\n",
    "        pymnt = np.float32(total_pre_chargeoff - last_pymnt_amnt) / n_pymnt\n",
    "    pymnt = np.full(n_report_d, pymnt)\n",
    "    pymnt[report_d >= last_pymnt_d] = 0\n",
    "\n",
    "    # backload the surplus onto the last payment (will be 0 for charged off) and return\n",
    "    pymnt[report_d == last_pymnt_d] = last_pymnt_amnt\n",
    "    return pd.Series({\n",
    "        'report_d': report_d,\n",
    "        'pymnt': pymnt\n",
    "    })"
   ]
  },
  {
   "cell_type": "code",
   "execution_count": 11,
   "id": "72fd5516-c17c-46e9-be9b-f145aad0f755",
   "metadata": {},
   "outputs": [
    {
     "data": {
      "application/vnd.jupyter.widget-view+json": {
       "model_id": "4f2f6d8a139040cc89544ecb8ff25ac5",
       "version_major": 2,
       "version_minor": 0
      },
      "text/plain": [
       "  0%|          | 0/2260668 [00:00<?, ?it/s]"
      ]
     },
     "metadata": {},
     "output_type": "display_data"
    }
   ],
   "source": [
    "df_ts = df.progress_apply(lambda x: basic_pymnt_attr(**x.squeeze()), axis=1).join(df.id)"
   ]
  },
  {
   "cell_type": "code",
   "execution_count": 12,
   "id": "b9649479-aa7d-43d3-b111-88df55c54317",
   "metadata": {},
   "outputs": [],
   "source": [
    "df_ts.to_json('accepted_2007_to_2018Q4.jsonl.gz', orient='records', lines=True, date_format='iso')"
   ]
  },
  {
   "cell_type": "markdown",
   "id": "5c95831c-8fda-4eb6-86b0-b16046b4fa77",
   "metadata": {},
   "source": [
    "### Select a dataset at random for training the model\n",
    "\n",
    "This subset of 100,000 records is intended to reduce training time for the model. We can scale this up to the full 2 million records once we're happy with the results."
   ]
  },
  {
   "cell_type": "code",
   "execution_count": 13,
   "id": "03480d2c-2b61-4ee7-a81c-2b9b5c2a7730",
   "metadata": {},
   "outputs": [],
   "source": [
    "df_train = df_ts.sample(100_000, random_state=42).reset_index(drop=True)"
   ]
  },
  {
   "cell_type": "code",
   "execution_count": 14,
   "id": "433d07a2-8ba1-4c9a-9673-07083ffa0183",
   "metadata": {},
   "outputs": [],
   "source": [
    "df_train = df_train.merge(df[['id', 'loan_amnt', 'int_rate', 'installment', 'n_report_d', 'total_pre_chargeoff']])"
   ]
  },
  {
   "cell_type": "code",
   "execution_count": 15,
   "id": "49ae7f7d-3fd0-42ca-af75-f009331d7cc5",
   "metadata": {},
   "outputs": [],
   "source": [
    "df_train.to_json('training.jsonl.gz', orient='records', lines=True, date_format='iso')"
   ]
  },
  {
   "cell_type": "code",
   "execution_count": 16,
   "id": "2f4dd45e-3f91-46db-99f5-ddc15766566a",
   "metadata": {},
   "outputs": [
    {
     "data": {
      "text/html": [
       "<div>\n",
       "<style scoped>\n",
       "    .dataframe tbody tr th:only-of-type {\n",
       "        vertical-align: middle;\n",
       "    }\n",
       "\n",
       "    .dataframe tbody tr th {\n",
       "        vertical-align: top;\n",
       "    }\n",
       "\n",
       "    .dataframe thead th {\n",
       "        text-align: right;\n",
       "    }\n",
       "</style>\n",
       "<table border=\"1\" class=\"dataframe\">\n",
       "  <thead>\n",
       "    <tr style=\"text-align: right;\">\n",
       "      <th></th>\n",
       "      <th>report_d</th>\n",
       "      <th>pymnt</th>\n",
       "      <th>id</th>\n",
       "      <th>loan_amnt</th>\n",
       "      <th>int_rate</th>\n",
       "      <th>installment</th>\n",
       "      <th>n_report_d</th>\n",
       "      <th>total_pre_chargeoff</th>\n",
       "    </tr>\n",
       "  </thead>\n",
       "  <tbody>\n",
       "    <tr>\n",
       "      <th>0</th>\n",
       "      <td>DatetimeIndex(['2014-01-01', '2014-02-01', '20...</td>\n",
       "      <td>[859.7100446428572, 859.7100446428572, 859.710...</td>\n",
       "      <td>9785323</td>\n",
       "      <td>28000.0</td>\n",
       "      <td>6.62</td>\n",
       "      <td>859.71</td>\n",
       "      <td>36</td>\n",
       "      <td>30949.252158</td>\n",
       "    </tr>\n",
       "    <tr>\n",
       "      <th>1</th>\n",
       "      <td>DatetimeIndex(['2016-06-01', '2016-07-01', '20...</td>\n",
       "      <td>[396.4228210449219, 396.4228210449219, 396.422...</td>\n",
       "      <td>78558461</td>\n",
       "      <td>10650.0</td>\n",
       "      <td>25.11</td>\n",
       "      <td>424.07</td>\n",
       "      <td>34</td>\n",
       "      <td>13702.025250</td>\n",
       "    </tr>\n",
       "    <tr>\n",
       "      <th>2</th>\n",
       "      <td>DatetimeIndex(['2017-07-01', '2017-08-01', '20...</td>\n",
       "      <td>[588.514501953125, 588.514501953125, 588.51450...</td>\n",
       "      <td>110757806</td>\n",
       "      <td>18000.0</td>\n",
       "      <td>10.91</td>\n",
       "      <td>588.54</td>\n",
       "      <td>21</td>\n",
       "      <td>12358.830000</td>\n",
       "    </tr>\n",
       "    <tr>\n",
       "      <th>3</th>\n",
       "      <td>DatetimeIndex(['2017-02-01', '2017-03-01', '20...</td>\n",
       "      <td>[142.36812337239584, 142.36812337239584, 142.3...</td>\n",
       "      <td>96668860</td>\n",
       "      <td>3975.0</td>\n",
       "      <td>17.99</td>\n",
       "      <td>143.69</td>\n",
       "      <td>26</td>\n",
       "      <td>4245.304383</td>\n",
       "    </tr>\n",
       "    <tr>\n",
       "      <th>4</th>\n",
       "      <td>DatetimeIndex(['2017-10-01', '2017-11-01', '20...</td>\n",
       "      <td>[168.30764590992646, 168.30764590992646, 168.3...</td>\n",
       "      <td>118207599</td>\n",
       "      <td>4800.0</td>\n",
       "      <td>16.02</td>\n",
       "      <td>168.81</td>\n",
       "      <td>18</td>\n",
       "      <td>3030.040000</td>\n",
       "    </tr>\n",
       "    <tr>\n",
       "      <th>...</th>\n",
       "      <td>...</td>\n",
       "      <td>...</td>\n",
       "      <td>...</td>\n",
       "      <td>...</td>\n",
       "      <td>...</td>\n",
       "      <td>...</td>\n",
       "      <td>...</td>\n",
       "      <td>...</td>\n",
       "    </tr>\n",
       "    <tr>\n",
       "      <th>99995</th>\n",
       "      <td>DatetimeIndex(['2017-09-01', '2017-10-01', '20...</td>\n",
       "      <td>[502.6505533854167, 502.6505533854167, 502.650...</td>\n",
       "      <td>115090136</td>\n",
       "      <td>24000.0</td>\n",
       "      <td>9.44</td>\n",
       "      <td>503.35</td>\n",
       "      <td>19</td>\n",
       "      <td>9551.060000</td>\n",
       "    </tr>\n",
       "    <tr>\n",
       "      <th>99996</th>\n",
       "      <td>DatetimeIndex(['2013-03-01', '2013-04-01', '20...</td>\n",
       "      <td>[438.72006138392857, 438.72006138392857, 438.7...</td>\n",
       "      <td>3365462</td>\n",
       "      <td>13000.0</td>\n",
       "      <td>13.11</td>\n",
       "      <td>438.72</td>\n",
       "      <td>36</td>\n",
       "      <td>15793.502439</td>\n",
       "    </tr>\n",
       "    <tr>\n",
       "      <th>99997</th>\n",
       "      <td>DatetimeIndex(['2015-06-01', '2015-07-01', '20...</td>\n",
       "      <td>[91.3834228515625, 91.3834228515625, 91.383422...</td>\n",
       "      <td>48605201</td>\n",
       "      <td>2500.0</td>\n",
       "      <td>15.61</td>\n",
       "      <td>87.42</td>\n",
       "      <td>36</td>\n",
       "      <td>3116.059464</td>\n",
       "    </tr>\n",
       "    <tr>\n",
       "      <th>99998</th>\n",
       "      <td>DatetimeIndex(['2015-08-01', '2015-09-01', '20...</td>\n",
       "      <td>[223.24749755859375, 223.24749755859375, 223.2...</td>\n",
       "      <td>56117368</td>\n",
       "      <td>14400.0</td>\n",
       "      <td>9.17</td>\n",
       "      <td>300.11</td>\n",
       "      <td>44</td>\n",
       "      <td>1193.100000</td>\n",
       "    </tr>\n",
       "    <tr>\n",
       "      <th>99999</th>\n",
       "      <td>DatetimeIndex(['2015-07-01', '2015-08-01', '20...</td>\n",
       "      <td>[871.8377878289474, 871.8377878289474, 871.837...</td>\n",
       "      <td>51879014</td>\n",
       "      <td>25000.0</td>\n",
       "      <td>15.61</td>\n",
       "      <td>874.12</td>\n",
       "      <td>36</td>\n",
       "      <td>30057.448772</td>\n",
       "    </tr>\n",
       "  </tbody>\n",
       "</table>\n",
       "<p>100000 rows × 8 columns</p>\n",
       "</div>"
      ],
      "text/plain": [
       "                                                report_d  \\\n",
       "0      DatetimeIndex(['2014-01-01', '2014-02-01', '20...   \n",
       "1      DatetimeIndex(['2016-06-01', '2016-07-01', '20...   \n",
       "2      DatetimeIndex(['2017-07-01', '2017-08-01', '20...   \n",
       "3      DatetimeIndex(['2017-02-01', '2017-03-01', '20...   \n",
       "4      DatetimeIndex(['2017-10-01', '2017-11-01', '20...   \n",
       "...                                                  ...   \n",
       "99995  DatetimeIndex(['2017-09-01', '2017-10-01', '20...   \n",
       "99996  DatetimeIndex(['2013-03-01', '2013-04-01', '20...   \n",
       "99997  DatetimeIndex(['2015-06-01', '2015-07-01', '20...   \n",
       "99998  DatetimeIndex(['2015-08-01', '2015-09-01', '20...   \n",
       "99999  DatetimeIndex(['2015-07-01', '2015-08-01', '20...   \n",
       "\n",
       "                                                   pymnt         id  \\\n",
       "0      [859.7100446428572, 859.7100446428572, 859.710...    9785323   \n",
       "1      [396.4228210449219, 396.4228210449219, 396.422...   78558461   \n",
       "2      [588.514501953125, 588.514501953125, 588.51450...  110757806   \n",
       "3      [142.36812337239584, 142.36812337239584, 142.3...   96668860   \n",
       "4      [168.30764590992646, 168.30764590992646, 168.3...  118207599   \n",
       "...                                                  ...        ...   \n",
       "99995  [502.6505533854167, 502.6505533854167, 502.650...  115090136   \n",
       "99996  [438.72006138392857, 438.72006138392857, 438.7...    3365462   \n",
       "99997  [91.3834228515625, 91.3834228515625, 91.383422...   48605201   \n",
       "99998  [223.24749755859375, 223.24749755859375, 223.2...   56117368   \n",
       "99999  [871.8377878289474, 871.8377878289474, 871.837...   51879014   \n",
       "\n",
       "       loan_amnt  int_rate  installment  n_report_d  total_pre_chargeoff  \n",
       "0        28000.0      6.62       859.71          36       30949.252158  \n",
       "1        10650.0     25.11       424.07          34       13702.025250  \n",
       "2        18000.0     10.91       588.54          21       12358.830000  \n",
       "3         3975.0     17.99       143.69          26        4245.304383  \n",
       "4         4800.0     16.02       168.81          18        3030.040000  \n",
       "...          ...       ...          ...         ...                ...  \n",
       "99995    24000.0      9.44       503.35          19        9551.060000  \n",
       "99996    13000.0     13.11       438.72          36       15793.502439  \n",
       "99997     2500.0     15.61        87.42          36        3116.059464  \n",
       "99998    14400.0      9.17       300.11          44        1193.100000  \n",
       "99999    25000.0     15.61       874.12          36       30057.448772  \n",
       "\n",
       "[100000 rows x 8 columns]"
      ]
     },
     "execution_count": 16,
     "metadata": {},
     "output_type": "execute_result"
    }
   ],
   "source": [
    "df_train"
   ]
  },
  {
   "cell_type": "code",
   "execution_count": null,
   "id": "4f08b478-b37f-4bc8-891c-cd34dc365ab6",
   "metadata": {},
   "outputs": [],
   "source": []
  }
 ],
 "metadata": {
  "kernelspec": {
   "display_name": "Python 3 (ipykernel)",
   "language": "python",
   "name": "python3"
  },
  "language_info": {
   "codemirror_mode": {
    "name": "ipython",
    "version": 3
   },
   "file_extension": ".py",
   "mimetype": "text/x-python",
   "name": "python",
   "nbconvert_exporter": "python",
   "pygments_lexer": "ipython3",
   "version": "3.12.7"
  }
 },
 "nbformat": 4,
 "nbformat_minor": 5
}
