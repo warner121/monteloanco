{
 "cells": [
  {
   "cell_type": "code",
   "execution_count": 1,
   "id": "268e7f39-482a-486c-90d4-8a3a78bea185",
   "metadata": {},
   "outputs": [],
   "source": [
    "import numpy as np\n",
    "import pandas as pd"
   ]
  },
  {
   "cell_type": "code",
   "execution_count": 2,
   "id": "b86555b1-c4f2-4583-8362-e5064bc10f1c",
   "metadata": {},
   "outputs": [],
   "source": [
    "import seaborn as sns\n",
    "import matplotlib.pylab as plt"
   ]
  },
  {
   "cell_type": "code",
   "execution_count": 3,
   "id": "9e3c911b-63a1-4f35-b19c-baa212379cd8",
   "metadata": {},
   "outputs": [],
   "source": [
    "import torch\n",
    "import torch.nn.functional as F\n",
    "import pyro"
   ]
  },
  {
   "cell_type": "code",
   "execution_count": 4,
   "id": "83943858-c552-4025-b50b-4295d48cfd26",
   "metadata": {},
   "outputs": [],
   "source": [
    "from torch.utils.data import DataLoader\n",
    "from tqdm.notebook import tqdm"
   ]
  },
  {
   "cell_type": "code",
   "execution_count": 5,
   "id": "0f357820-d105-4417-b3a6-e6c8bc965734",
   "metadata": {},
   "outputs": [],
   "source": [
    "from monteloanco import model, guide, GroupedBatchSampler, TransitionMatrixNet"
   ]
  },
  {
   "cell_type": "markdown",
   "id": "b13888b1-3478-458e-8e6a-a82d602bae58",
   "metadata": {},
   "source": [
    "### A deep state-space model for a consumer credit risk portfolio\n",
    "\n",
    "This notebook outlines the development of a deep state-space model for consumer credit risk, built using [pyro.ai](https://pyro.ai/). At its core, the model employs Monte Carlo simulations for each loan, progressing through monthly timesteps. The hidden state at each step represents the loan’s status, with all accounts initially starting as current. From there, loans may transition to early payoff, arrears, or more commonly, remain current and advance to the next month.\n",
    "\n",
    "The model requires 5 inputs: \n",
    "- `loan_amnt` the initial advance to the customer.\n",
    "- `int_rate` the annual interest rate (as a percentage).\n",
    "- `installment` the monthly payment according to the initial schedule.\n",
    "- `total_pre_chargeoff` the total value of payments made against the account excluding recoveries.\n",
    "- `num_timesteps` the number of months observed to date if training, or the desired length of the simulation.\n",
    "\n",
    "The output used for validation is a simulation of hidden states (loan statuses) and payments, plus how those payments are attributed to principal and interest. Behind the scenes, the model also trains an embedding based on the loan account identifier, which effectively captures the performance characteristics of each specific loan. This embedding may serve several purposes, including:\n",
    "- Simulating the performance of the existing portfolio.\n",
    "- Extending the installment schedule to maturity to estimate the portfolio’s value if allowed to run off.\n",
    "- Providing a low-dimensional representation of loan performance, enabling broader analysis beyond traditional good/bad account classifications for training applicant-level models.\n",
    "- Reducing to a single risk dimension that represents the probability of default over any given time horizon."
   ]
  },
  {
   "cell_type": "markdown",
   "id": "198c64a6-1968-4dbe-8d6b-fef808a5d37e",
   "metadata": {},
   "source": [
    "We take a subset of the 2+ million accounts available here for speed."
   ]
  },
  {
   "cell_type": "code",
   "execution_count": 6,
   "id": "b5538b0b-c5cf-485c-b479-63ffa9dcf26a",
   "metadata": {},
   "outputs": [],
   "source": [
    "df_train = pd.read_json('training.jsonl.gz', lines=True)\n",
    "pd.testing.assert_index_equal(df_train.index, pd.RangeIndex(0, len(df_train)))"
   ]
  },
  {
   "cell_type": "markdown",
   "id": "8104c3f1-851a-4b6e-9cf3-ebfc1db55a2e",
   "metadata": {},
   "source": [
    "The model has been designed such that it can train / simulate a large number of accounts in parallel on a GPU. If you don't have a suitable GPU installed on your machine simply replace `cuda:0` here with `cpu`.\n",
    "\n",
    "The data must be fed into the model in batches, where all sequences in a batch have the same length. We use the custom`GroupedBatchSampler` to define these batches."
   ]
  },
  {
   "cell_type": "code",
   "execution_count": 7,
   "id": "076a6faa-dfea-4735-ae72-a9007acaa078",
   "metadata": {},
   "outputs": [],
   "source": [
    "embedding_size = 3\n",
    "device = 'cuda:0'"
   ]
  },
  {
   "cell_type": "code",
   "execution_count": 8,
   "id": "06c32060-5994-4ef6-9246-876dfa3e497a",
   "metadata": {},
   "outputs": [],
   "source": [
    "batch_size = 100_000\n",
    "dataset = df_train[['id', 'loan_amnt', 'int_rate', 'installment', 'n_report_d', 'total_pre_chargeoff']].to_dict(orient='records')\n",
    "grouped_batch_sampler = GroupedBatchSampler(dataset, batch_size)"
   ]
  },
  {
   "cell_type": "markdown",
   "id": "9357ebc3-ecdf-4b59-ba89-b982ee873e48",
   "metadata": {},
   "source": [
    "### Train the model\n",
    "\n",
    "With the batches defined it's time to run the optimisation process, and tune the parameters. The loss here is the difference between the the total value of payments made on each account vs. those from the MC simulation."
   ]
  },
  {
   "cell_type": "code",
   "execution_count": 9,
   "id": "dcb9c7cd-a2a0-4daa-a8e6-e75ff164a303",
   "metadata": {},
   "outputs": [],
   "source": [
    "transition_net = TransitionMatrixNet(embedding_size, device=device).to(device)"
   ]
  },
  {
   "cell_type": "code",
   "execution_count": 10,
   "id": "47a40808-519b-4b18-87de-e062abd866c3",
   "metadata": {},
   "outputs": [
    {
     "data": {
      "application/vnd.jupyter.widget-view+json": {
       "model_id": "72ffedd163f34144b6330436450d215b",
       "version_major": 2,
       "version_minor": 0
      },
      "text/plain": [
       "Epochs:   0%|          | 0/5000 [00:00<?, ?it/s]"
      ]
     },
     "metadata": {},
     "output_type": "display_data"
    },
    {
     "name": "stdout",
     "output_type": "stream",
     "text": [
      "Step 0 : Loss = 240988918.28662983\n",
      "Step 50 : Loss = 195212039.42083377\n",
      "Step 100 : Loss = 161217895.71815923\n",
      "Step 150 : Loss = 138540707.73805368\n",
      "Step 200 : Loss = 114405078.94917685\n",
      "Step 250 : Loss = 90752137.80896567\n",
      "Step 300 : Loss = 72102143.01679471\n",
      "Step 350 : Loss = 59279086.067003354\n",
      "Step 400 : Loss = 52675592.90520756\n",
      "Step 450 : Loss = 45272306.820155755\n",
      "Step 500 : Loss = 40018119.79725122\n",
      "Step 550 : Loss = 36413763.105785556\n",
      "Step 600 : Loss = 33913127.9598361\n",
      "Step 650 : Loss = 31999492.75550396\n",
      "Step 700 : Loss = 29419418.29957059\n",
      "Step 750 : Loss = 28728893.85760838\n",
      "Step 800 : Loss = 28280587.66411926\n",
      "Step 850 : Loss = 26290361.01360006\n",
      "Step 900 : Loss = 26455402.175823733\n",
      "Step 950 : Loss = 24659592.983728096\n",
      "Step 1000 : Loss = 24619369.888800703\n",
      "Step 1050 : Loss = 22806351.328060936\n",
      "Step 1100 : Loss = 22649848.587916486\n",
      "Step 1150 : Loss = 21849012.412738573\n",
      "Step 1200 : Loss = 22889393.624826126\n",
      "Step 1250 : Loss = 21622296.652984194\n",
      "Step 1300 : Loss = 21133850.655771032\n",
      "Step 1350 : Loss = 20602783.04837232\n",
      "Step 1400 : Loss = 20339825.5697039\n",
      "Step 1450 : Loss = 20322018.936806537\n",
      "Step 1500 : Loss = 19231712.92260419\n",
      "Step 1550 : Loss = 19337670.15398206\n",
      "Step 1600 : Loss = 19085733.088799007\n",
      "Step 1650 : Loss = 18561817.722782403\n",
      "Step 1700 : Loss = 19019462.10675165\n",
      "Step 1750 : Loss = 19342376.35588117\n",
      "Step 1800 : Loss = 18556710.59882396\n",
      "Step 1850 : Loss = 19257487.747139167\n",
      "Step 1900 : Loss = 17792004.52523551\n",
      "Step 1950 : Loss = 17825965.349603724\n",
      "Step 2000 : Loss = 18007827.24118197\n",
      "Step 2050 : Loss = 17515444.35001256\n",
      "Step 2100 : Loss = 17460996.85335707\n",
      "Step 2150 : Loss = 16904234.929639444\n",
      "Step 2200 : Loss = 16915973.336281136\n",
      "Step 2250 : Loss = 17428046.36966824\n",
      "Step 2300 : Loss = 16496034.77992173\n",
      "Step 2350 : Loss = 16505432.479908654\n",
      "Step 2400 : Loss = 16208580.98721639\n",
      "Step 2450 : Loss = 15995674.549521033\n",
      "Step 2500 : Loss = 16062524.86277863\n",
      "Step 2550 : Loss = 15944761.374762822\n",
      "Step 2600 : Loss = 15744273.74134072\n",
      "Step 2650 : Loss = 15670511.017316593\n",
      "Step 2700 : Loss = 15170841.205552198\n",
      "Step 2750 : Loss = 15466636.466817982\n",
      "Step 2800 : Loss = 15542439.534654697\n",
      "Step 2850 : Loss = 15051746.76750885\n",
      "Step 2900 : Loss = 14939777.08791609\n",
      "Step 2950 : Loss = 14964296.786105908\n",
      "Step 3000 : Loss = 14983568.62412633\n",
      "Step 3050 : Loss = 14824254.878625019\n",
      "Step 3100 : Loss = 14298601.387054006\n",
      "Step 3150 : Loss = 14894797.066754045\n",
      "Step 3200 : Loss = 14680869.012438603\n",
      "Step 3250 : Loss = 14717077.91446924\n",
      "Step 3300 : Loss = 14563874.450957645\n",
      "Step 3350 : Loss = 14163152.273136487\n",
      "Step 3400 : Loss = 14026737.83631162\n",
      "Step 3450 : Loss = 14740342.43723007\n",
      "Step 3500 : Loss = 14330289.341594243\n",
      "Step 3550 : Loss = 14224122.607215773\n",
      "Step 3600 : Loss = 14036994.66365483\n",
      "Step 3650 : Loss = 13841574.460190708\n",
      "Step 3700 : Loss = 13786558.843629023\n",
      "Step 3750 : Loss = 13858781.714824181\n",
      "Step 3800 : Loss = 13834145.999026753\n",
      "Step 3850 : Loss = 13639700.70435225\n",
      "Step 3900 : Loss = 13454862.47687321\n",
      "Step 3950 : Loss = 13619850.406204274\n",
      "Step 4000 : Loss = 13167647.093391389\n",
      "Step 4050 : Loss = 13435022.070613593\n",
      "Step 4100 : Loss = 13609490.120425075\n",
      "Step 4150 : Loss = 13113973.762603855\n",
      "Step 4200 : Loss = 13321686.456747886\n",
      "Step 4250 : Loss = 13173115.970524646\n",
      "Step 4300 : Loss = 13288783.578848483\n",
      "Step 4350 : Loss = 13372515.969500449\n",
      "Step 4400 : Loss = 13300575.298515266\n",
      "Step 4450 : Loss = 13009202.842766134\n",
      "Step 4500 : Loss = 13071190.321395053\n",
      "Step 4550 : Loss = 13156855.356977982\n",
      "Step 4600 : Loss = 13224135.624362724\n",
      "Step 4650 : Loss = 12587850.749364786\n",
      "Step 4700 : Loss = 12705027.097922564\n",
      "Step 4750 : Loss = 12951924.22975245\n",
      "Step 4800 : Loss = 12788325.925096055\n",
      "Step 4850 : Loss = 12861147.225191627\n",
      "Step 4900 : Loss = 12779560.86515067\n",
      "Step 4950 : Loss = 12737695.150461923\n",
      "CPU times: user 6h 44min 40s, sys: 19min 44s, total: 7h 4min 24s\n",
      "Wall time: 5h 28min 8s\n"
     ]
    }
   ],
   "source": [
    "%%time\n",
    "\n",
    "# Clear the param store in case we're in a REPL\n",
    "pyro.clear_param_store()\n",
    "\n",
    "# Create partial functions with their respective parameters\n",
    "from functools import partial\n",
    "\n",
    "model_with_config = partial(model, \n",
    "                            embedding_size=embedding_size,\n",
    "                            device=device, \n",
    "                            transition_net=transition_net)\n",
    "\n",
    "guide_with_config = partial(guide, \n",
    "                            device=device)\n",
    "\n",
    "# Set up the optimizer and inference algorithm\n",
    "optimizer = pyro.optim.Adam({\"lr\": 0.01})\n",
    "svi = pyro.infer.SVI(model=model_with_config, guide=guide_with_config, \n",
    "                     optim=optimizer, loss=pyro.infer.Trace_ELBO())\n",
    "\n",
    "# Run inference\n",
    "num_iterations = 5_000\n",
    "\n",
    "with tqdm(total=num_iterations, desc=\"Epochs\", position=0) as epoch_pbar:\n",
    "    for step in range(num_iterations):\n",
    "        losses = []\n",
    "        for batch_id, batch in enumerate(DataLoader(dataset, batch_sampler=grouped_batch_sampler, num_workers=1)):\n",
    "            loss = svi.step(\n",
    "                batch_id=batch_id,\n",
    "                batch_idx=torch.arange(len(batch['id'])).to(device), \n",
    "                installments=batch['installment'].to(device), \n",
    "                loan_amnt=batch['loan_amnt'].to(device), \n",
    "                int_rate=batch['int_rate'].to(device),\n",
    "                total_pre_chargeoff=batch['total_pre_chargeoff'].to(device),\n",
    "                num_timesteps=batch['n_report_d'].unique().item()\n",
    "            )\n",
    "            losses.append(loss)\n",
    "            \n",
    "        if step % np.ceil(num_iterations/100) == 0:\n",
    "            print(f\"Step {step} : Loss = {np.sum(losses)}\")\n",
    "        epoch_pbar.update(1)"
   ]
  },
  {
   "cell_type": "markdown",
   "id": "eea7b2ac-0dba-462d-b932-a5ad924a4424",
   "metadata": {},
   "source": [
    "### Save the model\n",
    "\n",
    "Save model parameters to a file for inference in another notebook."
   ]
  },
  {
   "cell_type": "code",
   "execution_count": 11,
   "id": "64fee799-415c-437b-ac84-0086dc1614dc",
   "metadata": {},
   "outputs": [],
   "source": [
    "pyro.get_param_store().save('param_store.pt')"
   ]
  },
  {
   "cell_type": "code",
   "execution_count": null,
   "id": "ffc8ffab-1476-44ec-927c-57c763a8722b",
   "metadata": {},
   "outputs": [],
   "source": []
  }
 ],
 "metadata": {
  "kernelspec": {
   "display_name": "Python 3 (ipykernel)",
   "language": "python",
   "name": "python3"
  },
  "language_info": {
   "codemirror_mode": {
    "name": "ipython",
    "version": 3
   },
   "file_extension": ".py",
   "mimetype": "text/x-python",
   "name": "python",
   "nbconvert_exporter": "python",
   "pygments_lexer": "ipython3",
   "version": "3.10.18"
  }
 },
 "nbformat": 4,
 "nbformat_minor": 5
}
