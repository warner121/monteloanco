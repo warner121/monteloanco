{
 "cells": [
  {
   "cell_type": "code",
   "execution_count": 1,
   "id": "268e7f39-482a-486c-90d4-8a3a78bea185",
   "metadata": {},
   "outputs": [],
   "source": [
    "import numpy as np\n",
    "import pandas as pd"
   ]
  },
  {
   "cell_type": "code",
   "execution_count": 2,
   "id": "b86555b1-c4f2-4583-8362-e5064bc10f1c",
   "metadata": {},
   "outputs": [],
   "source": [
    "import seaborn as sns\n",
    "import matplotlib.pylab as plt"
   ]
  },
  {
   "cell_type": "code",
   "execution_count": 3,
   "id": "9e3c911b-63a1-4f35-b19c-baa212379cd8",
   "metadata": {},
   "outputs": [],
   "source": [
    "import torch\n",
    "import torch.nn.functional as F\n",
    "import pyro"
   ]
  },
  {
   "cell_type": "code",
   "execution_count": 4,
   "id": "83943858-c552-4025-b50b-4295d48cfd26",
   "metadata": {},
   "outputs": [],
   "source": [
    "from torch.utils.data import DataLoader\n",
    "from tqdm.notebook import tqdm"
   ]
  },
  {
   "cell_type": "code",
   "execution_count": 5,
   "id": "0f357820-d105-4417-b3a6-e6c8bc965734",
   "metadata": {},
   "outputs": [],
   "source": [
    "from monteloanco import model, guide, GroupedBatchSampler, TransitionMatrixNet"
   ]
  },
  {
   "cell_type": "markdown",
   "id": "b13888b1-3478-458e-8e6a-a82d602bae58",
   "metadata": {},
   "source": [
    "### A deep state-space model for a consumer credit risk portfolio\n",
    "\n",
    "This notebook outlines the development of a deep state-space model for consumer credit risk, built using [pyro.ai](https://pyro.ai/). At its core, the model employs Monte Carlo simulations for each loan, progressing through monthly timesteps. The hidden state at each step represents the loan’s status, with all accounts initially starting as current. From there, loans may transition to early payoff, arrears, or more commonly, remain current and advance to the next month.\n",
    "\n",
    "The model requires 5 inputs: \n",
    "- `loan_amnt` the initial advance to the customer.\n",
    "- `int_rate` the annual interest rate (as a percentage).\n",
    "- `installment` the monthly payment according to the initial schedule.\n",
    "- `total_pre_chargeoff` the total value of payments made against the account excluding recoveries.\n",
    "- `num_timesteps` the number of months observed to date if training, or the desired length of the simulation.\n",
    "\n",
    "The output used for validation is a simulation of hidden states (loan statuses) and payments, plus how those payments are attributed to principal and interest. Behind the scenes, the model also trains an embedding based on the loan account identifier, which effectively captures the performance characteristics of each specific loan. This embedding may serve several purposes, including:\n",
    "- Simulating the performance of the existing portfolio.\n",
    "- Extending the installment schedule to maturity to estimate the portfolio’s value if allowed to run off.\n",
    "- Providing a low-dimensional representation of loan performance, enabling broader analysis beyond traditional good/bad account classifications for training applicant-level models.\n",
    "- Reducing to a single risk dimension that represents the probability of default over any given time horizon."
   ]
  },
  {
   "cell_type": "markdown",
   "id": "198c64a6-1968-4dbe-8d6b-fef808a5d37e",
   "metadata": {},
   "source": [
    "We take a subset of the 2+ million accounts available here for speed."
   ]
  },
  {
   "cell_type": "code",
   "execution_count": 6,
   "id": "b5538b0b-c5cf-485c-b479-63ffa9dcf26a",
   "metadata": {},
   "outputs": [],
   "source": [
    "df_train = pd.read_json('training.jsonl.gz', lines=True)\n",
    "pd.testing.assert_index_equal(df_train.index, pd.RangeIndex(0, len(df_train)))"
   ]
  },
  {
   "cell_type": "markdown",
   "id": "8104c3f1-851a-4b6e-9cf3-ebfc1db55a2e",
   "metadata": {},
   "source": [
    "The model has been designed such that it can train / simulate a large number of accounts in parallel on a GPU. If you don't have a suitable GPU installed on your machine simply replace `cuda:0` here with `cpu`.\n",
    "\n",
    "The data must be fed into the model in batches, where all sequences in a batch have the same length. We use the custom`GroupedBatchSampler` to define these batches."
   ]
  },
  {
   "cell_type": "code",
   "execution_count": 7,
   "id": "076a6faa-dfea-4735-ae72-a9007acaa078",
   "metadata": {},
   "outputs": [],
   "source": [
    "embedding_size = 3\n",
    "device = 'cuda:0'"
   ]
  },
  {
   "cell_type": "code",
   "execution_count": 8,
   "id": "06c32060-5994-4ef6-9246-876dfa3e497a",
   "metadata": {},
   "outputs": [],
   "source": [
    "batch_size = 100_000\n",
    "dataset = df_train[['id', 'loan_amnt', 'int_rate', 'installment', 'n_report_d', 'total_pre_chargeoff']].to_dict(orient='records')\n",
    "grouped_batch_sampler = GroupedBatchSampler(dataset, batch_size)"
   ]
  },
  {
   "cell_type": "markdown",
   "id": "9357ebc3-ecdf-4b59-ba89-b982ee873e48",
   "metadata": {},
   "source": [
    "### Train the model\n",
    "\n",
    "With the batches defined it's time to run the optimisation process, and tune the parameters. The loss here is the difference between the the total value of payments made on each account vs. those from the MC simulation."
   ]
  },
  {
   "cell_type": "code",
   "execution_count": 9,
   "id": "dcb9c7cd-a2a0-4daa-a8e6-e75ff164a303",
   "metadata": {},
   "outputs": [],
   "source": [
    "transition_net = TransitionMatrixNet(embedding_size, device=device).to(device)"
   ]
  },
  {
   "cell_type": "code",
   "execution_count": 10,
   "id": "47a40808-519b-4b18-87de-e062abd866c3",
   "metadata": {},
   "outputs": [
    {
     "data": {
      "application/vnd.jupyter.widget-view+json": {
       "model_id": "85cce838a3d0453c94bc598a2948c98a",
       "version_major": 2,
       "version_minor": 0
      },
      "text/plain": [
       "Epochs:   0%|          | 0/10000 [00:00<?, ?it/s]"
      ]
     },
     "metadata": {},
     "output_type": "display_data"
    },
    {
     "name": "stdout",
     "output_type": "stream",
     "text": [
      "Step 0 : Loss = 198355988.98187304\n",
      "Step 100 : Loss = 161335204.71144605\n",
      "Step 200 : Loss = 122628371.0418009\n",
      "Step 300 : Loss = 89653193.7968375\n",
      "Step 400 : Loss = 64771538.42533216\n",
      "Step 500 : Loss = 50414827.807243586\n",
      "Step 600 : Loss = 37870101.609364435\n",
      "Step 700 : Loss = 32757636.107530136\n",
      "Step 800 : Loss = 29464743.600149967\n",
      "Step 900 : Loss = 25494400.352905653\n",
      "Step 1000 : Loss = 24865615.41177609\n",
      "Step 1100 : Loss = 23643811.997385263\n",
      "Step 1200 : Loss = 21878874.608365856\n",
      "Step 1300 : Loss = 21580623.58115204\n",
      "Step 1400 : Loss = 20625064.768596597\n",
      "Step 1500 : Loss = 19629405.626589376\n",
      "Step 1600 : Loss = 19278482.643203802\n",
      "Step 1700 : Loss = 18830802.300423007\n",
      "Step 1800 : Loss = 18444108.74086599\n",
      "Step 1900 : Loss = 17927422.42790776\n",
      "Step 2000 : Loss = 17159984.49422976\n",
      "Step 2100 : Loss = 16887552.06099894\n",
      "Step 2200 : Loss = 17267040.937804904\n",
      "Step 2300 : Loss = 16291415.7975072\n",
      "Step 2400 : Loss = 16621197.64285012\n",
      "Step 2500 : Loss = 15764965.554029435\n",
      "Step 2600 : Loss = 15618779.807569306\n",
      "Step 2700 : Loss = 15415520.072299713\n",
      "Step 2800 : Loss = 15202064.180841774\n",
      "Step 2900 : Loss = 14859568.70586362\n",
      "Step 3000 : Loss = 14710310.361037895\n",
      "Step 3100 : Loss = 14546139.42807445\n",
      "Step 3200 : Loss = 14623189.220120193\n",
      "Step 3300 : Loss = 13993662.510685772\n",
      "Step 3400 : Loss = 14351670.063821761\n",
      "Step 3500 : Loss = 14113267.158626804\n",
      "Step 3600 : Loss = 14098345.65672626\n",
      "Step 3700 : Loss = 13647292.497475078\n",
      "Step 3800 : Loss = 13295516.884713847\n",
      "Step 3900 : Loss = 13530766.351883765\n",
      "Step 4000 : Loss = 13689548.828997314\n",
      "Step 4100 : Loss = 13538396.212192206\n",
      "Step 4200 : Loss = 13361469.954935843\n",
      "Step 4300 : Loss = 13058394.96206031\n",
      "Step 4400 : Loss = 13241496.668363402\n",
      "Step 4500 : Loss = 12881487.828373479\n",
      "Step 4600 : Loss = 12901125.10401364\n",
      "Step 4700 : Loss = 12721589.30877134\n",
      "Step 4800 : Loss = 12527086.01790259\n",
      "Step 4900 : Loss = 12320860.162663752\n",
      "Step 5000 : Loss = 12648819.938859986\n",
      "Step 5100 : Loss = 12457312.703063972\n",
      "Step 5200 : Loss = 12154696.525162308\n",
      "Step 5300 : Loss = 12420631.77819678\n",
      "Step 5400 : Loss = 12440395.341736346\n",
      "Step 5500 : Loss = 12249650.314005276\n",
      "Step 5600 : Loss = 12173018.798440354\n",
      "Step 5700 : Loss = 12008843.574489761\n",
      "Step 5800 : Loss = 12406330.497324456\n",
      "Step 5900 : Loss = 11885806.217305742\n",
      "Step 6000 : Loss = 11656733.887276933\n",
      "Step 6100 : Loss = 11984139.38731591\n",
      "Step 6200 : Loss = 12151576.381985562\n",
      "Step 6300 : Loss = 11858088.429433648\n",
      "Step 6400 : Loss = 11858867.134747088\n",
      "Step 6500 : Loss = 11556256.90722821\n",
      "Step 6600 : Loss = 11950950.21186709\n",
      "Step 6700 : Loss = 11674913.861456575\n",
      "Step 6800 : Loss = 11621248.599831667\n",
      "Step 6900 : Loss = 11615412.731652768\n",
      "Step 7000 : Loss = 11599571.167991178\n",
      "Step 7100 : Loss = 11666011.400578523\n",
      "Step 7200 : Loss = 11616601.139415085\n",
      "Step 7300 : Loss = 11243494.32069797\n",
      "Step 7400 : Loss = 11709022.816372903\n",
      "Step 7500 : Loss = 11326250.921532027\n",
      "Step 7600 : Loss = 11244515.744934108\n",
      "Step 7700 : Loss = 11022508.692808982\n",
      "Step 7800 : Loss = 11520087.448607285\n",
      "Step 7900 : Loss = 11148054.426550996\n",
      "Step 8000 : Loss = 11489235.206482721\n",
      "Step 8100 : Loss = 11386793.230224747\n",
      "Step 8200 : Loss = 11222135.62963425\n",
      "Step 8300 : Loss = 11190875.106163576\n",
      "Step 8400 : Loss = 11327862.630498512\n",
      "Step 8500 : Loss = 11138289.695534296\n",
      "Step 8600 : Loss = 11477868.591518095\n",
      "Step 8700 : Loss = 11276911.286682613\n",
      "Step 8800 : Loss = 11179129.314621203\n",
      "Step 8900 : Loss = 10997636.883752353\n",
      "Step 9000 : Loss = 10906447.75404665\n",
      "Step 9100 : Loss = 11163725.306424972\n",
      "Step 9200 : Loss = 10859950.56749833\n",
      "Step 9300 : Loss = 10970450.982207386\n",
      "Step 9400 : Loss = 11046860.132698206\n",
      "Step 9500 : Loss = 11001352.529634424\n",
      "Step 9600 : Loss = 10932243.315799197\n",
      "Step 9700 : Loss = 10801741.468451247\n",
      "Step 9800 : Loss = 11038527.091922699\n",
      "Step 9900 : Loss = 11117232.555244679\n",
      "CPU times: user 13h 45min 22s, sys: 15min 33s, total: 14h 56s\n",
      "Wall time: 10h 46min 51s\n"
     ]
    }
   ],
   "source": [
    "%%time\n",
    "\n",
    "# Clear the param store in case we're in a REPL\n",
    "pyro.clear_param_store()\n",
    "\n",
    "# Create partial functions with their respective parameters\n",
    "from functools import partial\n",
    "\n",
    "model_with_config = partial(model, \n",
    "                            embedding_size=embedding_size,\n",
    "                            device=device, \n",
    "                            transition_net=transition_net)\n",
    "\n",
    "guide_with_config = partial(guide, \n",
    "                            device=device)\n",
    "\n",
    "# Set up the optimizer and inference algorithm\n",
    "optimizer = pyro.optim.Adam({\"lr\": 0.01})\n",
    "svi = pyro.infer.SVI(model=model_with_config, guide=guide_with_config, \n",
    "                     optim=optimizer, loss=pyro.infer.Trace_ELBO())\n",
    "\n",
    "# Run inference\n",
    "num_iterations = 10_000\n",
    "\n",
    "with tqdm(total=num_iterations, desc=\"Epochs\", position=0) as epoch_pbar:\n",
    "    for step in range(num_iterations):\n",
    "        losses = []\n",
    "        for batch_id, batch in enumerate(DataLoader(dataset, batch_sampler=grouped_batch_sampler, num_workers=1)):\n",
    "            loss = svi.step(\n",
    "                batch_id=batch_id,\n",
    "                batch_idx=torch.arange(len(batch['id'])).to(device), \n",
    "                installments=batch['installment'].to(device), \n",
    "                loan_amnt=batch['loan_amnt'].to(device), \n",
    "                int_rate=batch['int_rate'].to(device),\n",
    "                total_pre_chargeoff=batch['total_pre_chargeoff'].to(device),\n",
    "                num_timesteps=batch['n_report_d'].unique().item()\n",
    "            )\n",
    "            losses.append(loss)\n",
    "            \n",
    "        if step % np.ceil(num_iterations/100) == 0:\n",
    "            print(f\"Step {step} : Loss = {np.sum(losses)}\")\n",
    "        epoch_pbar.update(1)"
   ]
  },
  {
   "cell_type": "markdown",
   "id": "eea7b2ac-0dba-462d-b932-a5ad924a4424",
   "metadata": {},
   "source": [
    "### Save the model\n",
    "\n",
    "Save model parameters to a file for inference in another notebook."
   ]
  },
  {
   "cell_type": "code",
   "execution_count": 11,
   "id": "64fee799-415c-437b-ac84-0086dc1614dc",
   "metadata": {},
   "outputs": [],
   "source": [
    "pyro.get_param_store().save('param_store.pt')\n",
    "torch.save(transition_net.state_dict(), 'model_params.pt')"
   ]
  },
  {
   "cell_type": "code",
   "execution_count": null,
   "id": "43f05022-3679-4db2-89c9-d6fa0462b4b3",
   "metadata": {},
   "outputs": [],
   "source": []
  }
 ],
 "metadata": {
  "kernelspec": {
   "display_name": "Python 3 (ipykernel)",
   "language": "python",
   "name": "python3"
  },
  "language_info": {
   "codemirror_mode": {
    "name": "ipython",
    "version": 3
   },
   "file_extension": ".py",
   "mimetype": "text/x-python",
   "name": "python",
   "nbconvert_exporter": "python",
   "pygments_lexer": "ipython3",
   "version": "3.10.18"
  }
 },
 "nbformat": 4,
 "nbformat_minor": 5
}
