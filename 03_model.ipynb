{
 "cells": [
  {
   "cell_type": "code",
   "execution_count": 1,
   "id": "268e7f39-482a-486c-90d4-8a3a78bea185",
   "metadata": {},
   "outputs": [],
   "source": [
    "import numpy as np\n",
    "import pandas as pd"
   ]
  },
  {
   "cell_type": "code",
   "execution_count": 2,
   "id": "b86555b1-c4f2-4583-8362-e5064bc10f1c",
   "metadata": {},
   "outputs": [],
   "source": [
    "import seaborn as sns\n",
    "import matplotlib.pylab as plt"
   ]
  },
  {
   "cell_type": "code",
   "execution_count": 3,
   "id": "9e3c911b-63a1-4f35-b19c-baa212379cd8",
   "metadata": {},
   "outputs": [],
   "source": [
    "import torch\n",
    "import torch.nn.functional as F\n",
    "import pyro"
   ]
  },
  {
   "cell_type": "code",
   "execution_count": 4,
   "id": "83943858-c552-4025-b50b-4295d48cfd26",
   "metadata": {},
   "outputs": [],
   "source": [
    "from torch.utils.data import DataLoader\n",
    "from tqdm.notebook import tqdm"
   ]
  },
  {
   "cell_type": "code",
   "execution_count": 5,
   "id": "0f357820-d105-4417-b3a6-e6c8bc965734",
   "metadata": {},
   "outputs": [],
   "source": [
    "from monteloanco import Model, Guide, GroupedBatchSampler, tmat_reshape, Template"
   ]
  },
  {
   "cell_type": "markdown",
   "id": "b13888b1-3478-458e-8e6a-a82d602bae58",
   "metadata": {},
   "source": [
    "### A deep state-space model for a consumer credit risk portfolio\n",
    "\n",
    "This notebook outlines the development of a deep state-space model for consumer credit risk, built using [pyro.ai](https://pyro.ai/). At its core, the model employs Monte Carlo simulations for each loan, progressing through monthly timesteps. The hidden state at each step represents the loan’s status, with all accounts initially starting as current. From there, loans may transition to early payoff, arrears, or more commonly, remain current and advance to the next month.\n",
    "\n",
    "The model requires 5 inputs: \n",
    "- `loan_amnt` the initial advance to the customer.\n",
    "- `int_rate` the annual interest rate (as a percentage).\n",
    "- `installment` the monthly payment according to the initial schedule.\n",
    "- `total_pre_chargeoff` the total value of payments made against the account excluding recoveries.\n",
    "- `num_timesteps` the number of months observed to date if training, or the desired length of the simulation.\n",
    "\n",
    "The output used for validation is a simulation of hidden states (loan statuses) and payments, plus how those payments are attributed to principal and interest. Behind the scenes, the model also trains an embedding based on the loan account identifier, which effectively captures the performance characteristics of each specific loan. This embedding may serve several purposes, including:\n",
    "- Simulating the performance of the existing portfolio.\n",
    "- Extending the installment schedule to maturity to estimate the portfolio’s value if allowed to run off.\n",
    "- Providing a low-dimensional representation of loan performance, enabling broader analysis beyond traditional good/bad account classifications for training applicant-level models.\n",
    "- Reducing to a single risk dimension that represents the probability of default over any given time horizon."
   ]
  },
  {
   "cell_type": "markdown",
   "id": "198c64a6-1968-4dbe-8d6b-fef808a5d37e",
   "metadata": {},
   "source": [
    "We take a subset of the 2+ million accounts available here for speed."
   ]
  },
  {
   "cell_type": "code",
   "execution_count": 6,
   "id": "b5538b0b-c5cf-485c-b479-63ffa9dcf26a",
   "metadata": {},
   "outputs": [],
   "source": [
    "df_train = pd.read_json('training.jsonl.gz', lines=True)\n",
    "pd.testing.assert_index_equal(df_train.index, pd.RangeIndex(0, len(df_train)))"
   ]
  },
  {
   "cell_type": "markdown",
   "id": "8104c3f1-851a-4b6e-9cf3-ebfc1db55a2e",
   "metadata": {},
   "source": [
    "The model has been designed such that it can train / simulate a large number of accounts in parallel on a GPU. If you don't have a suitable GPU installed on your machine simply replace `cuda:0` here with `cpu`.\n",
    "\n",
    "The data must be fed into the model in batches, where all sequences in a batch have the same length. We use the custom`GroupedBatchSampler` to define these batches."
   ]
  },
  {
   "cell_type": "code",
   "execution_count": 7,
   "id": "bbbb228e-324c-4741-8d90-d86ed31e925e",
   "metadata": {},
   "outputs": [],
   "source": [
    "device = 'cuda:0'\n",
    "embedding_size = 3"
   ]
  },
  {
   "cell_type": "code",
   "execution_count": 8,
   "id": "06c32060-5994-4ef6-9246-876dfa3e497a",
   "metadata": {},
   "outputs": [],
   "source": [
    "batch_size = 100_000\n",
    "dataset = df_train[['id', 'loan_amnt', 'int_rate', 'installment', 'n_report_d', 'total_pre_chargeoff']].to_dict(orient='records')\n",
    "grouped_batch_sampler = GroupedBatchSampler(dataset, batch_size)"
   ]
  },
  {
   "cell_type": "markdown",
   "id": "9357ebc3-ecdf-4b59-ba89-b982ee873e48",
   "metadata": {},
   "source": [
    "### Train the model\n",
    "\n",
    "With the batches defined it's time to run the optimisation process, and tune the parameters. The loss here is the difference between the the total value of payments made on each account vs. those from the MC simulation."
   ]
  },
  {
   "cell_type": "code",
   "execution_count": 9,
   "id": "47a40808-519b-4b18-87de-e062abd866c3",
   "metadata": {},
   "outputs": [
    {
     "data": {
      "application/vnd.jupyter.widget-view+json": {
       "model_id": "4ae9e9795cc24d40b42e6adfdda4ab07",
       "version_major": 2,
       "version_minor": 0
      },
      "text/plain": [
       "Epochs:   0%|          | 0/5000 [00:00<?, ?it/s]"
      ]
     },
     "metadata": {},
     "output_type": "display_data"
    },
    {
     "name": "stdout",
     "output_type": "stream",
     "text": [
      "Step 0 : Loss = 238226234.559069\n",
      "Step 50 : Loss = 192794185.52017316\n",
      "Step 100 : Loss = 163497940.21337074\n",
      "Step 150 : Loss = 138727092.13574007\n",
      "Step 200 : Loss = 113021285.73833816\n",
      "Step 250 : Loss = 91080740.38268556\n",
      "Step 300 : Loss = 71066493.25068812\n",
      "Step 350 : Loss = 60264069.054535754\n",
      "Step 400 : Loss = 51705178.67244413\n",
      "Step 450 : Loss = 44873204.83061723\n",
      "Step 500 : Loss = 39630970.4511991\n",
      "Step 550 : Loss = 37853536.682191536\n",
      "Step 600 : Loss = 34543694.156989686\n",
      "Step 650 : Loss = 31750359.110879995\n",
      "Step 700 : Loss = 30902332.196030255\n",
      "Step 750 : Loss = 28614311.146266293\n",
      "Step 800 : Loss = 27841487.79360258\n",
      "Step 850 : Loss = 25944994.71903947\n",
      "Step 900 : Loss = 24860335.29281549\n",
      "Step 950 : Loss = 24669130.516366906\n",
      "Step 1000 : Loss = 24364775.612344656\n",
      "Step 1050 : Loss = 24325403.20592795\n",
      "Step 1100 : Loss = 23043025.695626803\n",
      "Step 1150 : Loss = 22478891.269797314\n",
      "Step 1200 : Loss = 22505432.306996763\n",
      "Step 1250 : Loss = 21453355.320758153\n",
      "Step 1300 : Loss = 20975146.57255727\n",
      "Step 1350 : Loss = 20716214.00037933\n",
      "Step 1400 : Loss = 20854526.59451971\n",
      "Step 1450 : Loss = 20104531.43325885\n",
      "Step 1500 : Loss = 20109902.0683847\n",
      "Step 1550 : Loss = 19772007.5964486\n",
      "Step 1600 : Loss = 19143775.87861094\n",
      "Step 1650 : Loss = 18626897.585067134\n",
      "Step 1700 : Loss = 18765587.31153082\n",
      "Step 1750 : Loss = 18331176.931353837\n",
      "Step 1800 : Loss = 18079091.56814947\n",
      "Step 1850 : Loss = 18105853.514012326\n",
      "Step 1900 : Loss = 17989519.730104756\n",
      "Step 1950 : Loss = 17233106.649455655\n",
      "Step 2000 : Loss = 17781840.84114194\n",
      "Step 2050 : Loss = 17765980.577085722\n",
      "Step 2100 : Loss = 17146275.211126946\n",
      "Step 2150 : Loss = 17029812.95100973\n",
      "Step 2200 : Loss = 17121143.779355437\n",
      "Step 2250 : Loss = 16700368.18870298\n",
      "Step 2300 : Loss = 16517174.11109742\n",
      "Step 2350 : Loss = 16640945.286170414\n",
      "Step 2400 : Loss = 15964175.759999318\n",
      "Step 2450 : Loss = 15883542.873511733\n",
      "Step 2500 : Loss = 16183845.99875696\n",
      "Step 2550 : Loss = 15569988.885634646\n",
      "Step 2600 : Loss = 15778639.41899526\n",
      "Step 2650 : Loss = 15565181.174811093\n",
      "Step 2700 : Loss = 15917544.351478487\n",
      "Step 2750 : Loss = 15063161.39960211\n",
      "Step 2800 : Loss = 14961982.528848775\n",
      "Step 2850 : Loss = 15353002.077342682\n",
      "Step 2900 : Loss = 14951079.481701782\n",
      "Step 2950 : Loss = 14619423.10848518\n",
      "Step 3000 : Loss = 14902436.007833116\n",
      "Step 3050 : Loss = 15053000.883992918\n",
      "Step 3100 : Loss = 14736573.739249602\n",
      "Step 3150 : Loss = 14720986.844036326\n",
      "Step 3200 : Loss = 14965461.585129488\n",
      "Step 3250 : Loss = 14281977.33105756\n",
      "Step 3300 : Loss = 14359552.847596386\n",
      "Step 3350 : Loss = 14574980.719662797\n",
      "Step 3400 : Loss = 14280069.53098537\n",
      "Step 3450 : Loss = 13827042.638016528\n",
      "Step 3500 : Loss = 14107936.398273913\n",
      "Step 3550 : Loss = 13926855.090633538\n",
      "Step 3600 : Loss = 14117189.907242792\n",
      "Step 3650 : Loss = 13979618.71590978\n",
      "Step 3700 : Loss = 13499056.238291992\n",
      "Step 3750 : Loss = 13511090.58163173\n",
      "Step 3800 : Loss = 13702439.99256967\n",
      "Step 3850 : Loss = 13775693.674035989\n",
      "Step 3900 : Loss = 13756479.851425894\n",
      "Step 3950 : Loss = 13657099.802839985\n",
      "Step 4000 : Loss = 14074427.869035343\n",
      "Step 4050 : Loss = 13235190.03774755\n",
      "Step 4100 : Loss = 13303365.015283197\n",
      "Step 4150 : Loss = 12950474.434844717\n",
      "Step 4200 : Loss = 13057839.17868371\n",
      "Step 4250 : Loss = 13225369.721231967\n",
      "Step 4300 : Loss = 12953234.323796533\n",
      "Step 4350 : Loss = 13432341.70489972\n",
      "Step 4400 : Loss = 13195635.603571713\n",
      "Step 4450 : Loss = 13094509.544368433\n",
      "Step 4500 : Loss = 12767267.086730625\n",
      "Step 4550 : Loss = 12535363.155863276\n",
      "Step 4600 : Loss = 13005419.133034294\n",
      "Step 4650 : Loss = 12602788.756761353\n",
      "Step 4700 : Loss = 12654344.206637181\n",
      "Step 4750 : Loss = 12779315.095019728\n",
      "Step 4800 : Loss = 12529824.106926763\n",
      "Step 4850 : Loss = 12598352.565678475\n",
      "Step 4900 : Loss = 12692271.178822188\n",
      "Step 4950 : Loss = 12570874.958989857\n",
      "CPU times: user 7h 23s, sys: 19min 36s, total: 7h 20min\n",
      "Wall time: 5h 42min 50s\n"
     ]
    }
   ],
   "source": [
    "%%time\n",
    "\n",
    "# clear the param store in case we're in a REPL\n",
    "pyro.clear_param_store()\n",
    "\n",
    "# Initialize the model and guide\n",
    "model = Model(embedding_size, device).to(device)\n",
    "guide = Guide(device).to(device)\n",
    "\n",
    "# Set up the optimizer and inference algorithm\n",
    "optimizer = pyro.optim.Adam({\"lr\": 0.01})\n",
    "svi = pyro.infer.SVI(model=model, guide=guide, optim=optimizer, loss=pyro.infer.Trace_ELBO())\n",
    "\n",
    "# Run inference\n",
    "#num_batches = grouped_batch_sampler.__len__()\n",
    "num_iterations = 5_000\n",
    "with tqdm(total=num_iterations, desc=\"Epochs\", position=0) as epoch_pbar:\n",
    "    for step in range(num_iterations):\n",
    "    #with tqdm(total=num_batches, desc=f\"Epoch {step + 1}\", position=1, leave=False) as batch_pbar:\n",
    "        losses = []\n",
    "        for batch_id, batch in enumerate(DataLoader(dataset, batch_sampler=grouped_batch_sampler, num_workers=1)):\n",
    "            losses.append(svi.step(\n",
    "                batch_id=batch_id,\n",
    "                batch_idx=torch.arange(len(batch['id'])).to(device), \n",
    "                installments=batch['installment'].to(device), \n",
    "                loan_amnt=batch['loan_amnt'].to(device), \n",
    "                int_rate=batch['int_rate'].to(device),\n",
    "                total_pre_chargeoff=batch['total_pre_chargeoff'].to(device),\n",
    "                num_timesteps=batch['n_report_d'].unique().item()))\n",
    "            #batch_pbar.update(1)\n",
    "        if step % np.ceil(num_iterations/100) == 0:\n",
    "            print(f\"Step {step} : Loss = {np.sum(losses)}\")\n",
    "        epoch_pbar.update(1)\n"
   ]
  },
  {
   "cell_type": "markdown",
   "id": "eea7b2ac-0dba-462d-b932-a5ad924a4424",
   "metadata": {},
   "source": [
    "### Save the model\n",
    "\n",
    "Save model parameters to a file for inference in another notebook."
   ]
  },
  {
   "cell_type": "code",
   "execution_count": 10,
   "id": "ea583a7e-f054-4917-871e-5b5d96f9b780",
   "metadata": {},
   "outputs": [
    {
     "data": {
      "text/plain": [
       "Model()"
      ]
     },
     "execution_count": 10,
     "metadata": {},
     "output_type": "execute_result"
    }
   ],
   "source": [
    "model.to(device)"
   ]
  },
  {
   "cell_type": "code",
   "execution_count": 11,
   "id": "64fee799-415c-437b-ac84-0086dc1614dc",
   "metadata": {},
   "outputs": [],
   "source": [
    "pyro.get_param_store().save('param_store.pt')\n",
    "torch.save(model.state_dict(), 'model_params.pt')\n",
    "torch.save(guide.state_dict(), \"guide_params.pt\")"
   ]
  },
  {
   "cell_type": "code",
   "execution_count": null,
   "id": "977e1b4f-2e34-4832-867f-25ae0cce6a31",
   "metadata": {},
   "outputs": [],
   "source": []
  }
 ],
 "metadata": {
  "kernelspec": {
   "display_name": "Python 3 (ipykernel)",
   "language": "python",
   "name": "python3"
  },
  "language_info": {
   "codemirror_mode": {
    "name": "ipython",
    "version": 3
   },
   "file_extension": ".py",
   "mimetype": "text/x-python",
   "name": "python",
   "nbconvert_exporter": "python",
   "pygments_lexer": "ipython3",
   "version": "3.10.12"
  }
 },
 "nbformat": 4,
 "nbformat_minor": 5
}
