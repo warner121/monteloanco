{
 "cells": [
  {
   "cell_type": "markdown",
   "id": "b13888b1-3478-458e-8e6a-a82d602bae58",
   "metadata": {},
   "source": [
    "# A deep state-space model for a consumer credit risk portfolio\n",
    "\n",
    "This notebook outlines the development of a deep state-space model for consumer credit risk, built using [pyro.ai](https://pyro.ai/). At its core, the model employs Monte Carlo simulations for each loan, progressing through monthly timesteps. The hidden state at each step represents the loan’s status, with all accounts initially starting as current. From there, loans may transition to early payoff, arrears, or more commonly, remain current and advance to the next month.\n",
    "\n",
    "The model requires a single primary input: a vector of anticipated cashflows, representing the loan’s installment schedule. The output used for training is the corresponding sequence of realized cashflows, i.e., the actual payments made. Behind the scenes, the model also trains an embedding based on the loan account identifier, which effectively captures the performance characteristics of each specific loan. This embedding serves several purposes, including:\n",
    "- Simulating the performance of the existing portfolio.\n",
    "- Extending the installment schedule to maturity to estimate the portfolio’s value if allowed to run off.\n",
    "- Providing a low-dimensional representation of loan performance, enabling broader analysis beyond traditional good/bad account classifications for training applicant-level models.\n",
    "- Reducing to a single risk dimension that represents the probability of default over any given time horizon."
   ]
  },
  {
   "cell_type": "code",
   "execution_count": 1,
   "id": "268e7f39-482a-486c-90d4-8a3a78bea185",
   "metadata": {},
   "outputs": [],
   "source": [
    "import numpy as np\n",
    "import pandas as pd"
   ]
  },
  {
   "cell_type": "code",
   "execution_count": 2,
   "id": "b86555b1-c4f2-4583-8362-e5064bc10f1c",
   "metadata": {},
   "outputs": [],
   "source": [
    "import seaborn as sns\n",
    "import matplotlib.pylab as plt"
   ]
  },
  {
   "cell_type": "code",
   "execution_count": 3,
   "id": "9e3c911b-63a1-4f35-b19c-baa212379cd8",
   "metadata": {},
   "outputs": [],
   "source": [
    "import torch\n",
    "import torch.nn.functional as F\n",
    "import pyro"
   ]
  },
  {
   "cell_type": "code",
   "execution_count": 4,
   "id": "0f357820-d105-4417-b3a6-e6c8bc965734",
   "metadata": {},
   "outputs": [],
   "source": [
    "from monteloanco import Model, Guide, GroupedBatchSampler, tmat_reshape, Template"
   ]
  },
  {
   "cell_type": "markdown",
   "id": "198c64a6-1968-4dbe-8d6b-fef808a5d37e",
   "metadata": {},
   "source": [
    "We take a subset of the 2+ million accounts available here for speed."
   ]
  },
  {
   "cell_type": "code",
   "execution_count": 5,
   "id": "b5538b0b-c5cf-485c-b479-63ffa9dcf26a",
   "metadata": {},
   "outputs": [],
   "source": [
    "df_train = pd.read_json('training.jsonl.gz', lines=True)\n",
    "pd.testing.assert_index_equal(df_train.index, pd.RangeIndex(0, len(df_train)))"
   ]
  },
  {
   "cell_type": "code",
   "execution_count": 6,
   "id": "a4fdb6c9-d9fe-489b-876d-d5b302dde1ea",
   "metadata": {},
   "outputs": [],
   "source": [
    "df_train.pymnt = df_train.pymnt.apply(torch.tensor)"
   ]
  },
  {
   "cell_type": "markdown",
   "id": "8104c3f1-851a-4b6e-9cf3-ebfc1db55a2e",
   "metadata": {},
   "source": [
    "The model has been designed such that it can train / simulate a large number of accounts in parallel on a GPU. If you don't have a suitable GPU installed on your machine simply replace `cuda:0` here with `cpu`. To achieve this we need to consider how the data is to be fed into the model. One of consideration with batching the tasks is that it is preferable to present the longest sequences first as these contain the most information, but more importanly than that, that all sequences in a batch ultimately have the same length. We pad the sequences out with 0, which is perfectly applicable to both the expected and realised payment seqences."
   ]
  },
  {
   "cell_type": "code",
   "execution_count": 7,
   "id": "bbbb228e-324c-4741-8d90-d86ed31e925e",
   "metadata": {},
   "outputs": [],
   "source": [
    "device = 'cuda:0'"
   ]
  },
  {
   "cell_type": "code",
   "execution_count": 8,
   "id": "06c32060-5994-4ef6-9246-876dfa3e497a",
   "metadata": {},
   "outputs": [],
   "source": [
    "batch_size = 100_000\n",
    "dataset = df_train[['id', 'installment', 'loan_amnt', 'int_rate', 'pymnt']].to_dict(orient='records')\n",
    "grouped_batch_sampler = GroupedBatchSampler(dataset, batch_size)"
   ]
  },
  {
   "cell_type": "markdown",
   "id": "9357ebc3-ecdf-4b59-ba89-b982ee873e48",
   "metadata": {},
   "source": [
    "With the dataset batches defined it's time to run the optimisation process, and tune the parameters. The loss here is the difference between the anticipated payment and that that was made, for every account, up to and including each timestep in the sequence."
   ]
  },
  {
   "cell_type": "code",
   "execution_count": 9,
   "id": "83943858-c552-4025-b50b-4295d48cfd26",
   "metadata": {},
   "outputs": [],
   "source": [
    "from torch.utils.data import DataLoader\n",
    "from tqdm.notebook import tqdm"
   ]
  },
  {
   "cell_type": "code",
   "execution_count": 10,
   "id": "47a40808-519b-4b18-87de-e062abd866c3",
   "metadata": {},
   "outputs": [
    {
     "data": {
      "application/vnd.jupyter.widget-view+json": {
       "model_id": "b1e1d673e992487182daa59dc8a2e5d0",
       "version_major": 2,
       "version_minor": 0
      },
      "text/plain": [
       "Epochs:   0%|          | 0/5000 [00:00<?, ?it/s]"
      ]
     },
     "metadata": {},
     "output_type": "display_data"
    },
    {
     "name": "stdout",
     "output_type": "stream",
     "text": [
      "Step 0 : Loss = 230119965.97146985\n",
      "Step 50 : Loss = 186075195.43187854\n",
      "Step 100 : Loss = 160320469.34471247\n",
      "Step 150 : Loss = 134214832.65835404\n",
      "Step 200 : Loss = 109515040.47992021\n",
      "Step 250 : Loss = 88039167.37706979\n",
      "Step 300 : Loss = 70883478.53175192\n",
      "Step 350 : Loss = 57980335.39293516\n",
      "Step 400 : Loss = 50671704.423718296\n",
      "Step 450 : Loss = 44886381.9616344\n",
      "Step 500 : Loss = 39133389.49634911\n",
      "Step 550 : Loss = 35182310.12696102\n",
      "Step 600 : Loss = 32489407.81583545\n",
      "Step 650 : Loss = 31101709.227414303\n",
      "Step 700 : Loss = 29245971.946966484\n",
      "Step 750 : Loss = 27068722.921539456\n",
      "Step 800 : Loss = 27032780.581781816\n",
      "Step 850 : Loss = 25401525.984197926\n",
      "Step 900 : Loss = 24120142.36332261\n",
      "Step 950 : Loss = 23953993.990318276\n",
      "Step 1000 : Loss = 22848663.56132793\n",
      "Step 1050 : Loss = 22080655.77458438\n",
      "Step 1100 : Loss = 21928354.426541604\n",
      "Step 1150 : Loss = 21823860.054372124\n",
      "Step 1200 : Loss = 21002021.093666557\n",
      "Step 1250 : Loss = 20589978.09602321\n",
      "Step 1300 : Loss = 20547751.06896513\n",
      "Step 1350 : Loss = 19901922.394690525\n",
      "Step 1400 : Loss = 19785359.0955881\n",
      "Step 1450 : Loss = 19094266.67974218\n",
      "Step 1500 : Loss = 19130636.859528556\n",
      "Step 1550 : Loss = 18409140.486043558\n",
      "Step 1600 : Loss = 18581905.19316197\n",
      "Step 1650 : Loss = 18416868.24739002\n",
      "Step 1700 : Loss = 18001881.997498617\n",
      "Step 1750 : Loss = 17784439.530176595\n",
      "Step 1800 : Loss = 17489967.530791033\n",
      "Step 1850 : Loss = 17342664.91287768\n",
      "Step 1900 : Loss = 17233844.076928794\n",
      "Step 1950 : Loss = 16726248.462856354\n",
      "Step 2000 : Loss = 16605263.416132849\n",
      "Step 2050 : Loss = 16528622.565020923\n",
      "Step 2100 : Loss = 16850416.569869008\n",
      "Step 2150 : Loss = 15974479.331701612\n",
      "Step 2200 : Loss = 16170450.369954027\n",
      "Step 2250 : Loss = 15428451.068076313\n",
      "Step 2300 : Loss = 16061261.71344857\n",
      "Step 2350 : Loss = 15153607.841170657\n",
      "Step 2400 : Loss = 15178570.817421498\n",
      "Step 2450 : Loss = 15168724.733821055\n",
      "Step 2500 : Loss = 15290665.773631705\n",
      "Step 2550 : Loss = 14766563.553276816\n",
      "Step 2600 : Loss = 15228955.844672402\n",
      "Step 2650 : Loss = 14550425.52251079\n",
      "Step 2700 : Loss = 14913654.220607689\n",
      "Step 2750 : Loss = 14413817.662928198\n",
      "Step 2800 : Loss = 14358318.09446866\n",
      "Step 2850 : Loss = 14296654.331909096\n",
      "Step 2900 : Loss = 14176372.64666911\n",
      "Step 2950 : Loss = 13859344.755317304\n",
      "Step 3000 : Loss = 14305835.33868115\n",
      "Step 3050 : Loss = 14192625.242599243\n",
      "Step 3100 : Loss = 13890225.709914608\n",
      "Step 3150 : Loss = 13904183.282731479\n",
      "Step 3200 : Loss = 13712296.352991553\n",
      "Step 3250 : Loss = 13667524.583769038\n",
      "Step 3300 : Loss = 13432789.84231723\n",
      "Step 3350 : Loss = 13638269.598487504\n",
      "Step 3400 : Loss = 13254033.578446222\n",
      "Step 3450 : Loss = 13016794.71907303\n",
      "Step 3500 : Loss = 13419431.229101919\n",
      "Step 3550 : Loss = 13474181.479313966\n",
      "Step 3600 : Loss = 13414758.546673378\n",
      "Step 3650 : Loss = 13129499.438601144\n",
      "Step 3700 : Loss = 13313215.346479405\n",
      "Step 3750 : Loss = 13053159.274344718\n",
      "Step 3800 : Loss = 13166410.120500896\n",
      "Step 3850 : Loss = 12963227.225387061\n",
      "Step 3900 : Loss = 12704791.319715286\n",
      "Step 3950 : Loss = 12838148.068665022\n",
      "Step 4000 : Loss = 12508524.522436865\n",
      "Step 4050 : Loss = 12579524.976775648\n",
      "Step 4100 : Loss = 12615654.865874877\n",
      "Step 4150 : Loss = 12483499.120521687\n",
      "Step 4200 : Loss = 12726939.911624772\n",
      "Step 4250 : Loss = 12476420.449070517\n",
      "Step 4300 : Loss = 12320702.05926568\n",
      "Step 4350 : Loss = 12237402.628711864\n",
      "Step 4400 : Loss = 12354463.647639843\n",
      "Step 4450 : Loss = 12381447.00976145\n",
      "Step 4500 : Loss = 12177637.40176343\n",
      "Step 4550 : Loss = 12180244.989089364\n",
      "Step 4600 : Loss = 12146788.107266169\n",
      "Step 4650 : Loss = 12100750.633160314\n",
      "Step 4700 : Loss = 12122642.450627847\n",
      "Step 4750 : Loss = 11825395.926182047\n",
      "Step 4800 : Loss = 12030582.201168729\n",
      "Step 4850 : Loss = 11617671.247029278\n",
      "Step 4900 : Loss = 11702485.496464554\n",
      "Step 4950 : Loss = 11950016.220628588\n",
      "CPU times: user 1d 10h 36min 17s, sys: 2h 2min 36s, total: 1d 12h 38min 53s\n",
      "Wall time: 5h 36min 54s\n"
     ]
    }
   ],
   "source": [
    "%%time\n",
    "\n",
    "# clear the param store in case we're in a REPL\n",
    "pyro.clear_param_store()\n",
    "\n",
    "# Initialize the model and guide\n",
    "embedding_size=3\n",
    "model = Model(embedding_size, device).to(device)\n",
    "guide = Guide(embedding_size, device).to(device)\n",
    "\n",
    "# Set up the optimizer and inference algorithm\n",
    "optimizer = pyro.optim.Adam({\"lr\": 0.01})\n",
    "svi = pyro.infer.SVI(model=model, guide=guide, optim=optimizer, loss=pyro.infer.Trace_ELBO())\n",
    "\n",
    "# Run inference\n",
    "#num_batches = grouped_batch_sampler.__len__()\n",
    "num_iterations = 5_000\n",
    "with tqdm(total=num_iterations, desc=\"Epochs\", position=0) as epoch_pbar:\n",
    "    for step in range(num_iterations):\n",
    "    #with tqdm(total=num_batches, desc=f\"Epoch {step + 1}\", position=1, leave=False) as batch_pbar:\n",
    "        losses = []\n",
    "        for batch_id, batch in enumerate(DataLoader(dataset, batch_sampler=grouped_batch_sampler, num_workers=1)):\n",
    "            losses.append(svi.step(\n",
    "                batch_id=batch_id,\n",
    "                batch_idx=torch.arange(len(batch['id'])).to(device), \n",
    "                installments=batch['installment'].to(device), \n",
    "                loan_amnt=batch['loan_amnt'].to(device), \n",
    "                int_rate=batch['int_rate'].to(device),\n",
    "                pymnts=batch['pymnt'].to(device)))\n",
    "            #batch_pbar.update(1)\n",
    "        if step % np.ceil(num_iterations/100) == 0:\n",
    "            print(f\"Step {step} : Loss = {np.sum(losses)}\")\n",
    "        epoch_pbar.update(1)\n"
   ]
  },
  {
   "cell_type": "markdown",
   "id": "eea7b2ac-0dba-462d-b932-a5ad924a4424",
   "metadata": {},
   "source": [
    "Save model parameters to a file for inference in another notebook."
   ]
  },
  {
   "cell_type": "code",
   "execution_count": 11,
   "id": "ea583a7e-f054-4917-871e-5b5d96f9b780",
   "metadata": {},
   "outputs": [
    {
     "data": {
      "text/plain": [
       "Model()"
      ]
     },
     "execution_count": 11,
     "metadata": {},
     "output_type": "execute_result"
    }
   ],
   "source": [
    "model.to(device)"
   ]
  },
  {
   "cell_type": "code",
   "execution_count": 12,
   "id": "64fee799-415c-437b-ac84-0086dc1614dc",
   "metadata": {},
   "outputs": [],
   "source": [
    "pyro.get_param_store().save('param_store.pt')\n",
    "torch.save(model.state_dict(), 'model_params.pt')\n",
    "torch.save(guide.state_dict(), \"guide_params.pt\")"
   ]
  },
  {
   "cell_type": "code",
   "execution_count": null,
   "id": "977e1b4f-2e34-4832-867f-25ae0cce6a31",
   "metadata": {},
   "outputs": [],
   "source": []
  }
 ],
 "metadata": {
  "kernelspec": {
   "display_name": "Python 3 (ipykernel)",
   "language": "python",
   "name": "python3"
  },
  "language_info": {
   "codemirror_mode": {
    "name": "ipython",
    "version": 3
   },
   "file_extension": ".py",
   "mimetype": "text/x-python",
   "name": "python",
   "nbconvert_exporter": "python",
   "pygments_lexer": "ipython3",
   "version": "3.12.7"
  }
 },
 "nbformat": 4,
 "nbformat_minor": 5
}
