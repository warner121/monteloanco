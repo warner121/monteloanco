{
 "cells": [
  {
   "cell_type": "markdown",
   "id": "b13888b1-3478-458e-8e6a-a82d602bae58",
   "metadata": {},
   "source": [
    "# A deep state-space model for a consumer credit risk portfolio\n",
    "\n",
    "This notebook outlines the development of a deep state-space model for consumer credit risk, built using [pyro.ai](https://pyro.ai/). At its core, the model employs Monte Carlo simulations for each loan, progressing through monthly timesteps. The hidden state at each step represents the loan’s status, with all accounts initially starting as current. From there, loans may transition to early payoff, arrears, or more commonly, remain current and advance to the next month.\n",
    "\n",
    "The model requires a single primary input: a vector of anticipated cashflows, representing the loan’s installment schedule. The output used for training is the corresponding sequence of realized cashflows, i.e., the actual payments made. Behind the scenes, the model also trains an embedding based on the loan account identifier, which effectively captures the performance characteristics of each specific loan. This embedding serves several purposes, including:\n",
    "- Simulating the performance of the existing portfolio.\n",
    "- Extending the installment schedule to maturity to estimate the portfolio’s value if allowed to run off.\n",
    "- Providing a low-dimensional representation of loan performance, enabling broader analysis beyond traditional good/bad account classifications for training applicant-level models.\n",
    "- Reducing to a single risk dimension that represents the probability of default over any given time horizon."
   ]
  },
  {
   "cell_type": "code",
   "execution_count": 1,
   "id": "268e7f39-482a-486c-90d4-8a3a78bea185",
   "metadata": {},
   "outputs": [],
   "source": [
    "import numpy as np\n",
    "import pandas as pd"
   ]
  },
  {
   "cell_type": "code",
   "execution_count": 2,
   "id": "b86555b1-c4f2-4583-8362-e5064bc10f1c",
   "metadata": {},
   "outputs": [],
   "source": [
    "import seaborn as sns\n",
    "import matplotlib.pylab as plt"
   ]
  },
  {
   "cell_type": "code",
   "execution_count": 3,
   "id": "9e3c911b-63a1-4f35-b19c-baa212379cd8",
   "metadata": {},
   "outputs": [],
   "source": [
    "import torch\n",
    "import torch.nn.functional as F\n",
    "import pyro"
   ]
  },
  {
   "cell_type": "code",
   "execution_count": 4,
   "id": "0f357820-d105-4417-b3a6-e6c8bc965734",
   "metadata": {},
   "outputs": [],
   "source": [
    "from monteloanco import Model, Guide, GroupedBatchSampler, tmat_reshape, Template"
   ]
  },
  {
   "cell_type": "markdown",
   "id": "198c64a6-1968-4dbe-8d6b-fef808a5d37e",
   "metadata": {},
   "source": [
    "We take a subset of the 2+ million accounts available here for speed."
   ]
  },
  {
   "cell_type": "code",
   "execution_count": 5,
   "id": "b5538b0b-c5cf-485c-b479-63ffa9dcf26a",
   "metadata": {},
   "outputs": [],
   "source": [
    "df_train = pd.read_json('training.jsonl.gz', lines=True)\n",
    "pd.testing.assert_index_equal(df_train.index, pd.RangeIndex(0, len(df_train)))"
   ]
  },
  {
   "cell_type": "code",
   "execution_count": 6,
   "id": "a4fdb6c9-d9fe-489b-876d-d5b302dde1ea",
   "metadata": {},
   "outputs": [],
   "source": [
    "df_train.pymnt = df_train.pymnt.apply(torch.tensor)"
   ]
  },
  {
   "cell_type": "markdown",
   "id": "8104c3f1-851a-4b6e-9cf3-ebfc1db55a2e",
   "metadata": {},
   "source": [
    "The model has been designed such that it can train / simulate a large number of accounts in parallel on a GPU. If you don't have a suitable GPU installed on your machine simply replace `cuda:0` here with `cpu`. To achieve this we need to consider how the data is to be fed into the model. One of consideration with batching the tasks is that it is preferable to present the longest sequences first as these contain the most information, but more importanly than that, that all sequences in a batch ultimately have the same length. We pad the sequences out with 0, which is perfectly applicable to both the expected and realised payment seqences."
   ]
  },
  {
   "cell_type": "code",
   "execution_count": 7,
   "id": "bbbb228e-324c-4741-8d90-d86ed31e925e",
   "metadata": {},
   "outputs": [],
   "source": [
    "device = 'cuda:0'"
   ]
  },
  {
   "cell_type": "code",
   "execution_count": 8,
   "id": "06c32060-5994-4ef6-9246-876dfa3e497a",
   "metadata": {},
   "outputs": [],
   "source": [
    "batch_size = 100_000\n",
    "dataset = df_train[['id', 'installment', 'loan_amnt', 'int_rate', 'pymnt']].to_dict(orient='records')\n",
    "grouped_batch_sampler = GroupedBatchSampler(dataset, batch_size)"
   ]
  },
  {
   "cell_type": "markdown",
   "id": "9357ebc3-ecdf-4b59-ba89-b982ee873e48",
   "metadata": {},
   "source": [
    "With the dataset batches defined it's time to run the optimisation process, and tune the parameters. The loss here is the difference between the anticipated payment and that that was made, for every account, up to and including each timestep in the sequence."
   ]
  },
  {
   "cell_type": "code",
   "execution_count": 9,
   "id": "83943858-c552-4025-b50b-4295d48cfd26",
   "metadata": {},
   "outputs": [],
   "source": [
    "from torch.utils.data import DataLoader\n",
    "from tqdm.notebook import tqdm"
   ]
  },
  {
   "cell_type": "code",
   "execution_count": 18,
   "id": "a95565e2-903e-471c-8244-21d6e5a411b5",
   "metadata": {},
   "outputs": [
    {
     "data": {
      "application/vnd.jupyter.widget-view+json": {
       "model_id": "f2a4f0a875cb4775a2bbee9399a0771f",
       "version_major": 2,
       "version_minor": 0
      },
      "text/plain": [
       "Epochs:   0%|          | 0/5000 [00:00<?, ?it/s]"
      ]
     },
     "metadata": {},
     "output_type": "display_data"
    },
    {
     "name": "stdout",
     "output_type": "stream",
     "text": [
      "Step 0 : Loss = 179513174.94888005\n",
      "Step 50 : Loss = 152808030.31364748\n",
      "Step 100 : Loss = 136507471.32227212\n",
      "Step 150 : Loss = 123957892.14333612\n",
      "Step 200 : Loss = 114616215.49660581\n",
      "Step 250 : Loss = 108133709.94140951\n",
      "Step 300 : Loss = 101994388.39356217\n",
      "Step 350 : Loss = 94452427.7038106\n",
      "Step 400 : Loss = 87016696.77804813\n",
      "Step 450 : Loss = 82656989.01834819\n",
      "Step 500 : Loss = 77728096.65529737\n",
      "Step 550 : Loss = 71695987.24740984\n",
      "Step 600 : Loss = 68852649.40374424\n",
      "Step 650 : Loss = 64373449.72738678\n",
      "Step 700 : Loss = 60715532.34186183\n",
      "Step 750 : Loss = 56914362.480946854\n",
      "Step 800 : Loss = 53851087.561536625\n",
      "Step 850 : Loss = 52745138.856184855\n",
      "Step 900 : Loss = 51079762.92549653\n",
      "Step 950 : Loss = 48219320.037238196\n",
      "Step 1000 : Loss = 48017657.90611365\n",
      "Step 1050 : Loss = 45616838.885054015\n",
      "Step 1100 : Loss = 44170515.07818867\n",
      "Step 1150 : Loss = 44043219.4031905\n",
      "Step 1200 : Loss = 42879993.89277851\n",
      "Step 1250 : Loss = 41977643.44021333\n",
      "Step 1300 : Loss = 41393454.89681393\n",
      "Step 1350 : Loss = 40880695.696845986\n",
      "Step 1400 : Loss = 40576016.885321975\n",
      "Step 1450 : Loss = 39922081.7388996\n",
      "Step 1500 : Loss = 39808415.2221639\n",
      "Step 1550 : Loss = 39125693.52799688\n",
      "Step 1600 : Loss = 38843517.187040776\n",
      "Step 1650 : Loss = 38257647.92011715\n",
      "Step 1700 : Loss = 37659308.21421828\n",
      "Step 1750 : Loss = 37155758.925109215\n",
      "Step 1800 : Loss = 37455880.01620774\n",
      "Step 1850 : Loss = 37536337.75823874\n",
      "Step 1900 : Loss = 37091030.366772525\n",
      "Step 1950 : Loss = 37043963.590484105\n",
      "Step 2000 : Loss = 36974216.10686043\n",
      "Step 2050 : Loss = 36924623.97804668\n",
      "Step 2100 : Loss = 36584289.66098591\n",
      "Step 2150 : Loss = 36295227.439118735\n",
      "Step 2200 : Loss = 35730923.61485145\n",
      "Step 2250 : Loss = 35769748.277842455\n",
      "Step 2300 : Loss = 36528103.89112674\n",
      "Step 2350 : Loss = 35721934.78673603\n",
      "Step 2400 : Loss = 35259641.38624113\n",
      "Step 2450 : Loss = 35493193.74516244\n",
      "Step 2500 : Loss = 34748657.551153645\n",
      "Step 2550 : Loss = 34793755.812791236\n",
      "Step 2600 : Loss = 35112852.32735174\n",
      "Step 2650 : Loss = 34839679.15402751\n",
      "Step 2700 : Loss = 35064232.31532953\n",
      "Step 2750 : Loss = 34173616.41069233\n",
      "Step 2800 : Loss = 34465711.09371258\n",
      "Step 2850 : Loss = 34778861.19896698\n",
      "Step 2900 : Loss = 34432083.347579315\n",
      "Step 2950 : Loss = 34564859.78783241\n",
      "Step 3000 : Loss = 34572821.77626091\n",
      "Step 3050 : Loss = 34407380.99758662\n",
      "Step 3100 : Loss = 34277534.346649125\n",
      "Step 3150 : Loss = 33985298.62998495\n",
      "Step 3200 : Loss = 33403252.00184883\n",
      "Step 3250 : Loss = 33928883.35109135\n",
      "Step 3300 : Loss = 33976580.00480813\n",
      "Step 3350 : Loss = 33961949.607458144\n",
      "Step 3400 : Loss = 33819957.60152299\n",
      "Step 3450 : Loss = 33527515.458373226\n",
      "Step 3500 : Loss = 33943416.71308995\n",
      "Step 3550 : Loss = 33501199.94136235\n",
      "Step 3600 : Loss = 33665585.141640194\n",
      "Step 3650 : Loss = 33392998.048267107\n",
      "Step 3700 : Loss = 33558094.52291438\n",
      "Step 3750 : Loss = 33083733.885353886\n",
      "Step 3800 : Loss = 33114015.903793674\n",
      "Step 3850 : Loss = 33066051.769651387\n",
      "Step 3900 : Loss = 33345532.651842497\n",
      "Step 3950 : Loss = 32737548.817989044\n",
      "Step 4000 : Loss = 33455857.406475782\n",
      "Step 4050 : Loss = 33167161.82402639\n",
      "Step 4100 : Loss = 33126339.519366406\n",
      "Step 4150 : Loss = 32751353.61858186\n",
      "Step 4200 : Loss = 33064372.099871874\n",
      "Step 4250 : Loss = 32828184.165316157\n",
      "Step 4300 : Loss = 33309652.2470198\n",
      "Step 4350 : Loss = 32592910.04008686\n",
      "Step 4400 : Loss = 32672092.693906575\n",
      "Step 4450 : Loss = 32781744.13092619\n",
      "Step 4500 : Loss = 32551346.987815354\n",
      "Step 4550 : Loss = 32374341.995374635\n",
      "Step 4600 : Loss = 32283310.523355022\n",
      "Step 4650 : Loss = 32819778.053291097\n",
      "Step 4700 : Loss = 32852961.06928113\n",
      "Step 4750 : Loss = 32542039.25257434\n",
      "Step 4800 : Loss = 32854586.908424526\n",
      "Step 4850 : Loss = 32696753.76243564\n",
      "Step 4900 : Loss = 32711511.100949094\n",
      "Step 4950 : Loss = 32536912.64338448\n",
      "CPU times: user 1d 17h 38min 4s, sys: 2h 33min 22s, total: 1d 20h 11min 26s\n",
      "Wall time: 7h 14min 23s\n"
     ]
    }
   ],
   "source": [
    "%%time\n",
    "\n",
    "# clear the param store in case we're in a REPL\n",
    "pyro.clear_param_store()\n",
    "\n",
    "# Initialize the model and guide\n",
    "embedding_size=3\n",
    "model = Model(embedding_size, device).to(device)\n",
    "guide = Guide(embedding_size, device).to(device)\n",
    "\n",
    "# Set up the optimizer and inference algorithm\n",
    "optimizer = pyro.optim.Adam({\"lr\": 0.01})\n",
    "svi = pyro.infer.SVI(model=model, guide=guide, optim=optimizer, loss=pyro.infer.Trace_ELBO())\n",
    "\n",
    "# Run inference\n",
    "#num_batches = grouped_batch_sampler.__len__()\n",
    "num_iterations = 5_000\n",
    "with tqdm(total=num_iterations, desc=\"Epochs\", position=0) as epoch_pbar:\n",
    "    for step in range(num_iterations):\n",
    "    #with tqdm(total=num_batches, desc=f\"Epoch {step + 1}\", position=1, leave=False) as batch_pbar:\n",
    "        losses = []\n",
    "        for batch_id, batch in enumerate(DataLoader(dataset, batch_sampler=grouped_batch_sampler, num_workers=1)):\n",
    "            losses.append(svi.step(\n",
    "                batch_id=batch_id,\n",
    "                batch_idx=torch.arange(len(batch['id'])).to(device), \n",
    "                installments=batch['installment'].to(device), \n",
    "                loan_amnt=batch['loan_amnt'].to(device), \n",
    "                int_rate=batch['int_rate'].to(device),\n",
    "                pymnts=batch['pymnt'].to(device)))\n",
    "            #batch_pbar.update(1)\n",
    "        if step % np.ceil(num_iterations/100) == 0:\n",
    "            print(f\"Step {step} : Loss = {np.sum(losses)}\")\n",
    "        epoch_pbar.update(1)\n"
   ]
  },
  {
   "cell_type": "markdown",
   "id": "eea7b2ac-0dba-462d-b932-a5ad924a4424",
   "metadata": {},
   "source": [
    "Save model parameters to a file for inference in another notebook."
   ]
  },
  {
   "cell_type": "code",
   "execution_count": 19,
   "id": "ea583a7e-f054-4917-871e-5b5d96f9b780",
   "metadata": {},
   "outputs": [
    {
     "data": {
      "text/plain": [
       "Model()"
      ]
     },
     "execution_count": 19,
     "metadata": {},
     "output_type": "execute_result"
    }
   ],
   "source": [
    "model.to(device)"
   ]
  },
  {
   "cell_type": "code",
   "execution_count": 21,
   "id": "64fee799-415c-437b-ac84-0086dc1614dc",
   "metadata": {},
   "outputs": [],
   "source": [
    "pyro.get_param_store().save('param_store.pt')\n",
    "torch.save(model.state_dict(), 'model_params.pt')\n",
    "torch.save(guide.state_dict(), \"guide_params.pt\")"
   ]
  },
  {
   "cell_type": "code",
   "execution_count": null,
   "id": "977e1b4f-2e34-4832-867f-25ae0cce6a31",
   "metadata": {},
   "outputs": [],
   "source": []
  }
 ],
 "metadata": {
  "kernelspec": {
   "display_name": "Python 3 (ipykernel)",
   "language": "python",
   "name": "python3"
  },
  "language_info": {
   "codemirror_mode": {
    "name": "ipython",
    "version": 3
   },
   "file_extension": ".py",
   "mimetype": "text/x-python",
   "name": "python",
   "nbconvert_exporter": "python",
   "pygments_lexer": "ipython3",
   "version": "3.12.7"
  }
 },
 "nbformat": 4,
 "nbformat_minor": 5
}
