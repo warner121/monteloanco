{
 "cells": [
  {
   "cell_type": "code",
   "execution_count": 1,
   "id": "268e7f39-482a-486c-90d4-8a3a78bea185",
   "metadata": {},
   "outputs": [],
   "source": [
    "import numpy as np\n",
    "import pandas as pd"
   ]
  },
  {
   "cell_type": "code",
   "execution_count": 2,
   "id": "b86555b1-c4f2-4583-8362-e5064bc10f1c",
   "metadata": {},
   "outputs": [],
   "source": [
    "import seaborn as sns\n",
    "import matplotlib.pylab as plt"
   ]
  },
  {
   "cell_type": "code",
   "execution_count": 3,
   "id": "9e3c911b-63a1-4f35-b19c-baa212379cd8",
   "metadata": {},
   "outputs": [],
   "source": [
    "import torch\n",
    "import torch.nn.functional as F\n",
    "import pyro"
   ]
  },
  {
   "cell_type": "code",
   "execution_count": 4,
   "id": "83943858-c552-4025-b50b-4295d48cfd26",
   "metadata": {},
   "outputs": [],
   "source": [
    "from torch.utils.data import DataLoader\n",
    "from tqdm.notebook import tqdm"
   ]
  },
  {
   "cell_type": "code",
   "execution_count": 5,
   "id": "0f357820-d105-4417-b3a6-e6c8bc965734",
   "metadata": {},
   "outputs": [],
   "source": [
    "from monteloanco import model, guide, GroupedBatchSampler, TransitionMatrixNet"
   ]
  },
  {
   "cell_type": "markdown",
   "id": "b13888b1-3478-458e-8e6a-a82d602bae58",
   "metadata": {},
   "source": [
    "### A deep state-space model for a consumer credit risk portfolio\n",
    "\n",
    "This notebook outlines the development of a deep state-space model for consumer credit risk, built using [pyro.ai](https://pyro.ai/). At its core, the model employs Monte Carlo simulations for each loan, progressing through monthly timesteps. The hidden state at each step represents the loan’s status, with all accounts initially starting as current. From there, loans may transition to early payoff, arrears, or more commonly, remain current and advance to the next month.\n",
    "\n",
    "The model requires 5 inputs: \n",
    "- `loan_amnt` the initial advance to the customer.\n",
    "- `int_rate` the annual interest rate (as a percentage).\n",
    "- `installment` the monthly payment according to the initial schedule.\n",
    "- `total_pre_chargeoff` the total value of payments made against the account excluding recoveries.\n",
    "- `num_timesteps` the number of months observed to date if training, or the desired length of the simulation.\n",
    "\n",
    "The output used for validation is a simulation of hidden states (loan statuses) and payments, plus how those payments are attributed to principal and interest. Behind the scenes, the model also trains an embedding based on the loan account identifier, which effectively captures the performance characteristics of each specific loan. This embedding may serve several purposes, including:\n",
    "- Simulating the performance of the existing portfolio.\n",
    "- Extending the installment schedule to maturity to estimate the portfolio’s value if allowed to run off.\n",
    "- Providing a low-dimensional representation of loan performance, enabling broader analysis beyond traditional good/bad account classifications for training applicant-level models.\n",
    "- Reducing to a single risk dimension that represents the probability of default over any given time horizon."
   ]
  },
  {
   "cell_type": "markdown",
   "id": "198c64a6-1968-4dbe-8d6b-fef808a5d37e",
   "metadata": {},
   "source": [
    "We take a subset of the 2+ million accounts available here for speed."
   ]
  },
  {
   "cell_type": "code",
   "execution_count": 6,
   "id": "b5538b0b-c5cf-485c-b479-63ffa9dcf26a",
   "metadata": {},
   "outputs": [],
   "source": [
    "df_train = pd.read_json('training.jsonl.gz', lines=True)\n",
    "pd.testing.assert_index_equal(df_train.index, pd.RangeIndex(0, len(df_train)))"
   ]
  },
  {
   "cell_type": "markdown",
   "id": "8104c3f1-851a-4b6e-9cf3-ebfc1db55a2e",
   "metadata": {},
   "source": [
    "The model has been designed such that it can train / simulate a large number of accounts in parallel on a GPU. If you don't have a suitable GPU installed on your machine simply replace `cuda:0` here with `cpu`.\n",
    "\n",
    "The data must be fed into the model in batches, where all sequences in a batch have the same length. We use the custom`GroupedBatchSampler` to define these batches."
   ]
  },
  {
   "cell_type": "code",
   "execution_count": 7,
   "id": "076a6faa-dfea-4735-ae72-a9007acaa078",
   "metadata": {},
   "outputs": [],
   "source": [
    "embedding_size = 3\n",
    "device = 'cuda:0'"
   ]
  },
  {
   "cell_type": "code",
   "execution_count": 8,
   "id": "06c32060-5994-4ef6-9246-876dfa3e497a",
   "metadata": {},
   "outputs": [],
   "source": [
    "batch_size = 100_000\n",
    "dataset = df_train[['id', 'loan_amnt', 'int_rate', 'installment', 'n_report_d', 'total_pre_chargeoff']].to_dict(orient='records')\n",
    "grouped_batch_sampler = GroupedBatchSampler(dataset, batch_size)"
   ]
  },
  {
   "cell_type": "markdown",
   "id": "9357ebc3-ecdf-4b59-ba89-b982ee873e48",
   "metadata": {},
   "source": [
    "### Train the model\n",
    "\n",
    "With the batches defined it's time to run the optimisation process, and tune the parameters. The loss here is the difference between the the total value of payments made on each account vs. those from the MC simulation."
   ]
  },
  {
   "cell_type": "code",
   "execution_count": 9,
   "id": "dcb9c7cd-a2a0-4daa-a8e6-e75ff164a303",
   "metadata": {},
   "outputs": [],
   "source": [
    "transition_net = TransitionMatrixNet(embedding_size, device=device).to(device)"
   ]
  },
  {
   "cell_type": "code",
   "execution_count": 10,
   "id": "47a40808-519b-4b18-87de-e062abd866c3",
   "metadata": {},
   "outputs": [
    {
     "data": {
      "application/vnd.jupyter.widget-view+json": {
       "model_id": "c464273f673b483c9b22f19af0774107",
       "version_major": 2,
       "version_minor": 0
      },
      "text/plain": [
       "Epochs:   0%|          | 0/5000 [00:00<?, ?it/s]"
      ]
     },
     "metadata": {},
     "output_type": "display_data"
    },
    {
     "name": "stdout",
     "output_type": "stream",
     "text": [
      "Step 0 : Loss = 216399809.55696854\n",
      "Step 50 : Loss = 180554949.15136313\n",
      "Step 100 : Loss = 159887152.7531312\n",
      "Step 150 : Loss = 135849867.32108834\n",
      "Step 200 : Loss = 116601146.2498292\n",
      "Step 250 : Loss = 93200419.65328522\n",
      "Step 300 : Loss = 74687294.06502545\n",
      "Step 350 : Loss = 61961345.20340721\n",
      "Step 400 : Loss = 52700043.52238697\n",
      "Step 450 : Loss = 45581130.11675885\n",
      "Step 500 : Loss = 38249269.67074128\n",
      "Step 550 : Loss = 36343061.595510855\n",
      "Step 600 : Loss = 33656684.94644564\n",
      "Step 650 : Loss = 31533376.94241896\n",
      "Step 700 : Loss = 31036026.839804504\n",
      "Step 750 : Loss = 28521417.118873794\n",
      "Step 800 : Loss = 27473416.424703423\n",
      "Step 850 : Loss = 26443522.79737176\n",
      "Step 900 : Loss = 25978223.799784753\n",
      "Step 950 : Loss = 24878385.160334084\n",
      "Step 1000 : Loss = 23477261.451549143\n",
      "Step 1050 : Loss = 24279803.444949843\n",
      "Step 1100 : Loss = 23265340.402426366\n",
      "Step 1150 : Loss = 23541400.190480232\n",
      "Step 1200 : Loss = 22486398.57851421\n",
      "Step 1250 : Loss = 22716221.490062088\n",
      "Step 1300 : Loss = 22465984.493341766\n",
      "Step 1350 : Loss = 22410004.008661125\n",
      "Step 1400 : Loss = 20888221.85810023\n",
      "Step 1450 : Loss = 21333245.00655823\n",
      "Step 1500 : Loss = 21430108.336741295\n",
      "Step 1550 : Loss = 20700263.32139642\n",
      "Step 1600 : Loss = 20825043.096503206\n",
      "Step 1650 : Loss = 20538333.809238456\n",
      "Step 1700 : Loss = 20344557.61176591\n",
      "Step 1750 : Loss = 20127597.900004923\n",
      "Step 1800 : Loss = 20419936.709459428\n",
      "Step 1850 : Loss = 20194257.67731072\n",
      "Step 1900 : Loss = 19883184.705708355\n",
      "Step 1950 : Loss = 19726435.326213483\n",
      "Step 2000 : Loss = 19869099.718308862\n",
      "Step 2050 : Loss = 19517365.436051317\n",
      "Step 2100 : Loss = 19719653.48872574\n",
      "Step 2150 : Loss = 19266865.64347718\n",
      "Step 2200 : Loss = 20178059.50285563\n",
      "Step 2250 : Loss = 19887620.363250885\n",
      "Step 2300 : Loss = 19193010.783693608\n",
      "Step 2350 : Loss = 18998174.364835355\n",
      "Step 2400 : Loss = 19343036.350194525\n",
      "Step 2450 : Loss = 19167445.15684546\n",
      "Step 2500 : Loss = 19032143.66509264\n",
      "Step 2550 : Loss = 18740577.48754386\n",
      "Step 2600 : Loss = 19042935.085884728\n",
      "Step 2650 : Loss = 18799819.769133467\n",
      "Step 2700 : Loss = 18386750.287167292\n",
      "Step 2750 : Loss = 18345766.15795807\n",
      "Step 2800 : Loss = 18518017.450698644\n",
      "Step 2850 : Loss = 18654259.24968563\n",
      "Step 2900 : Loss = 18318101.74162056\n",
      "Step 2950 : Loss = 18862390.038770776\n",
      "Step 3000 : Loss = 18378587.406503372\n",
      "Step 3050 : Loss = 18381634.63714829\n",
      "Step 3100 : Loss = 17955581.85810873\n",
      "Step 3150 : Loss = 18732948.867138743\n",
      "Step 3200 : Loss = 18222366.354265932\n",
      "Step 3250 : Loss = 18118591.211651262\n",
      "Step 3300 : Loss = 18065175.27205839\n",
      "Step 3350 : Loss = 18082107.772693586\n",
      "Step 3400 : Loss = 18240080.514742754\n",
      "Step 3450 : Loss = 17977976.7922446\n",
      "Step 3500 : Loss = 18318856.22847395\n",
      "Step 3550 : Loss = 17872062.77577074\n",
      "Step 3600 : Loss = 17792990.8736404\n",
      "Step 3650 : Loss = 18119964.599651873\n",
      "Step 3700 : Loss = 17693984.756080996\n",
      "Step 3750 : Loss = 18352932.16745649\n",
      "Step 3800 : Loss = 18269290.69561739\n",
      "Step 3850 : Loss = 17715541.249279298\n",
      "Step 3900 : Loss = 17389992.78016618\n",
      "Step 3950 : Loss = 17426938.68999387\n",
      "Step 4000 : Loss = 17876146.26617501\n",
      "Step 4050 : Loss = 17599208.667506173\n",
      "Step 4100 : Loss = 17876109.081218764\n",
      "Step 4150 : Loss = 17695948.929999072\n",
      "Step 4200 : Loss = 17644756.230439894\n",
      "Step 4250 : Loss = 17749779.03344872\n",
      "Step 4300 : Loss = 17749119.300714005\n",
      "Step 4350 : Loss = 17544961.263891354\n",
      "Step 4400 : Loss = 17412507.43176409\n",
      "Step 4450 : Loss = 17710128.419893865\n",
      "Step 4500 : Loss = 17503945.23966006\n",
      "Step 4550 : Loss = 17721302.684097487\n",
      "Step 4600 : Loss = 17635581.36328771\n",
      "Step 4650 : Loss = 17788889.644124977\n",
      "Step 4700 : Loss = 17429936.484970927\n",
      "Step 4750 : Loss = 17239372.41844871\n",
      "Step 4800 : Loss = 17632101.02013725\n",
      "Step 4850 : Loss = 17138133.62153469\n",
      "Step 4900 : Loss = 17601229.763007984\n",
      "Step 4950 : Loss = 17563199.69651906\n",
      "CPU times: user 6h 51min 43s, sys: 7min 12s, total: 6h 58min 56s\n",
      "Wall time: 5h 21min 44s\n"
     ]
    }
   ],
   "source": [
    "%%time\n",
    "\n",
    "# Clear the param store in case we're in a REPL\n",
    "pyro.clear_param_store()\n",
    "\n",
    "# Create partial functions with their respective parameters\n",
    "from functools import partial\n",
    "\n",
    "model_with_config = partial(model, \n",
    "                            embedding_size=embedding_size,\n",
    "                            device=device, \n",
    "                            transition_net=transition_net)\n",
    "\n",
    "guide_with_config = partial(guide, \n",
    "                            device=device)\n",
    "\n",
    "# Set up the optimizer and inference algorithm\n",
    "optimizer = pyro.optim.Adam({\"lr\": 0.01})\n",
    "svi = pyro.infer.SVI(model=model_with_config, guide=guide_with_config, \n",
    "                     optim=optimizer, loss=pyro.infer.Trace_ELBO())\n",
    "\n",
    "# Run inference\n",
    "num_iterations = 5_000\n",
    "\n",
    "with tqdm(total=num_iterations, desc=\"Epochs\", position=0) as epoch_pbar:\n",
    "    for step in range(num_iterations):\n",
    "        losses = []\n",
    "        for batch_id, batch in enumerate(DataLoader(dataset, batch_sampler=grouped_batch_sampler, num_workers=1)):\n",
    "            loss = svi.step(\n",
    "                batch_id=batch_id,\n",
    "                batch_idx=torch.arange(len(batch['id'])).to(device), \n",
    "                installments=batch['installment'].to(device), \n",
    "                loan_amnt=batch['loan_amnt'].to(device), \n",
    "                int_rate=batch['int_rate'].to(device),\n",
    "                total_pre_chargeoff=batch['total_pre_chargeoff'].to(device),\n",
    "                num_timesteps=batch['n_report_d'].unique().item()\n",
    "            )\n",
    "            losses.append(loss)\n",
    "            \n",
    "        if step % np.ceil(num_iterations/100) == 0:\n",
    "            print(f\"Step {step} : Loss = {np.sum(losses)}\")\n",
    "        epoch_pbar.update(1)"
   ]
  },
  {
   "cell_type": "markdown",
   "id": "eea7b2ac-0dba-462d-b932-a5ad924a4424",
   "metadata": {},
   "source": [
    "### Save the model\n",
    "\n",
    "Save model parameters to a file for inference in another notebook."
   ]
  },
  {
   "cell_type": "code",
   "execution_count": 11,
   "id": "64fee799-415c-437b-ac84-0086dc1614dc",
   "metadata": {},
   "outputs": [],
   "source": [
    "pyro.get_param_store().save('param_store.pt')\n",
    "torch.save(transition_net.state_dict(), 'model_params.pt')"
   ]
  },
  {
   "cell_type": "code",
   "execution_count": null,
   "id": "43f05022-3679-4db2-89c9-d6fa0462b4b3",
   "metadata": {},
   "outputs": [],
   "source": []
  }
 ],
 "metadata": {
  "kernelspec": {
   "display_name": "Python 3 (ipykernel)",
   "language": "python",
   "name": "python3"
  },
  "language_info": {
   "codemirror_mode": {
    "name": "ipython",
    "version": 3
   },
   "file_extension": ".py",
   "mimetype": "text/x-python",
   "name": "python",
   "nbconvert_exporter": "python",
   "pygments_lexer": "ipython3",
   "version": "3.10.18"
  }
 },
 "nbformat": 4,
 "nbformat_minor": 5
}
