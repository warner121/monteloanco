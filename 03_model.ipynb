{
 "cells": [
  {
   "cell_type": "code",
   "execution_count": 1,
   "id": "268e7f39-482a-486c-90d4-8a3a78bea185",
   "metadata": {},
   "outputs": [],
   "source": [
    "import numpy as np\n",
    "import pandas as pd"
   ]
  },
  {
   "cell_type": "code",
   "execution_count": 2,
   "id": "b86555b1-c4f2-4583-8362-e5064bc10f1c",
   "metadata": {},
   "outputs": [],
   "source": [
    "import seaborn as sns\n",
    "import matplotlib.pylab as plt"
   ]
  },
  {
   "cell_type": "code",
   "execution_count": 3,
   "id": "9e3c911b-63a1-4f35-b19c-baa212379cd8",
   "metadata": {},
   "outputs": [],
   "source": [
    "import torch\n",
    "import torch.nn.functional as F\n",
    "import pyro"
   ]
  },
  {
   "cell_type": "code",
   "execution_count": 8,
   "id": "83943858-c552-4025-b50b-4295d48cfd26",
   "metadata": {},
   "outputs": [],
   "source": [
    "from torch.utils.data import DataLoader\n",
    "from tqdm.notebook import tqdm"
   ]
  },
  {
   "cell_type": "code",
   "execution_count": 4,
   "id": "0f357820-d105-4417-b3a6-e6c8bc965734",
   "metadata": {},
   "outputs": [],
   "source": [
    "from monteloanco import Model, Guide, GroupedBatchSampler, tmat_reshape, Template"
   ]
  },
  {
   "cell_type": "markdown",
   "id": "b13888b1-3478-458e-8e6a-a82d602bae58",
   "metadata": {},
   "source": [
    "### A deep state-space model for a consumer credit risk portfolio\n",
    "\n",
    "This notebook outlines the development of a deep state-space model for consumer credit risk, built using [pyro.ai](https://pyro.ai/). At its core, the model employs Monte Carlo simulations for each loan, progressing through monthly timesteps. The hidden state at each step represents the loan’s status, with all accounts initially starting as current. From there, loans may transition to early payoff, arrears, or more commonly, remain current and advance to the next month.\n",
    "\n",
    "The model requires 5 inputs: \n",
    "- `loan_amnt` the initial advance to the customer.\n",
    "- `int_rate` the annual interest rate (as a percentage).\n",
    "- `installment` the monthly payment according to the initial schedule.\n",
    "- `total_pre_chargeoff` the total value of payments made against the account excluding recoveries.\n",
    "- `num_timesteps` the number of months observed to date if training, or the desired length of the simulation.\n",
    "\n",
    "The output used for validation is a simulation of hidden states (loan statuses) and payments, plus how those payments are attributed to principal and interest. Behind the scenes, the model also trains an embedding based on the loan account identifier, which effectively captures the performance characteristics of each specific loan. This embedding may serve several purposes, including:\n",
    "- Simulating the performance of the existing portfolio.\n",
    "- Extending the installment schedule to maturity to estimate the portfolio’s value if allowed to run off.\n",
    "- Providing a low-dimensional representation of loan performance, enabling broader analysis beyond traditional good/bad account classifications for training applicant-level models.\n",
    "- Reducing to a single risk dimension that represents the probability of default over any given time horizon."
   ]
  },
  {
   "cell_type": "markdown",
   "id": "198c64a6-1968-4dbe-8d6b-fef808a5d37e",
   "metadata": {},
   "source": [
    "We take a subset of the 2+ million accounts available here for speed."
   ]
  },
  {
   "cell_type": "code",
   "execution_count": 5,
   "id": "b5538b0b-c5cf-485c-b479-63ffa9dcf26a",
   "metadata": {},
   "outputs": [],
   "source": [
    "df_train = pd.read_json('training.jsonl.gz', lines=True)\n",
    "pd.testing.assert_index_equal(df_train.index, pd.RangeIndex(0, len(df_train)))"
   ]
  },
  {
   "cell_type": "markdown",
   "id": "8104c3f1-851a-4b6e-9cf3-ebfc1db55a2e",
   "metadata": {},
   "source": [
    "The model has been designed such that it can train / simulate a large number of accounts in parallel on a GPU. If you don't have a suitable GPU installed on your machine simply replace `cuda:0` here with `cpu`.\n",
    "\n",
    "The data must be fed into the model in batches, where all sequences in a batch have the same length. We use the custom`GroupedBatchSampler` to define these batches."
   ]
  },
  {
   "cell_type": "code",
   "execution_count": 7,
   "id": "bbbb228e-324c-4741-8d90-d86ed31e925e",
   "metadata": {},
   "outputs": [],
   "source": [
    "device = 'cuda:0'\n",
    "embedding_size = 3"
   ]
  },
  {
   "cell_type": "code",
   "execution_count": 9,
   "id": "06c32060-5994-4ef6-9246-876dfa3e497a",
   "metadata": {},
   "outputs": [],
   "source": [
    "batch_size = 100_000\n",
    "dataset = df_train[['id', 'loan_amnt', 'int_rate', 'installment', 'n_report_d', 'total_pre_chargeoff']].to_dict(orient='records')\n",
    "grouped_batch_sampler = GroupedBatchSampler(dataset, batch_size)"
   ]
  },
  {
   "cell_type": "markdown",
   "id": "9357ebc3-ecdf-4b59-ba89-b982ee873e48",
   "metadata": {},
   "source": [
    "### Train the model\n",
    "\n",
    "With the batches defined it's time to run the optimisation process, and tune the parameters. The loss here is the difference between the the total value of payments made on each account vs. those from the MC simulation."
   ]
  },
  {
   "cell_type": "code",
   "execution_count": 10,
   "id": "47a40808-519b-4b18-87de-e062abd866c3",
   "metadata": {},
   "outputs": [
    {
     "data": {
      "application/vnd.jupyter.widget-view+json": {
       "model_id": "6d06b873a04f47618c57155503b8d3cd",
       "version_major": 2,
       "version_minor": 0
      },
      "text/plain": [
       "Epochs:   0%|          | 0/5000 [00:00<?, ?it/s]"
      ]
     },
     "metadata": {},
     "output_type": "display_data"
    },
    {
     "name": "stdout",
     "output_type": "stream",
     "text": [
      "Step 0 : Loss = 236963754.91642624\n",
      "Step 50 : Loss = 192751894.2455988\n",
      "Step 100 : Loss = 161739093.68177637\n",
      "Step 150 : Loss = 135718182.55855253\n",
      "Step 200 : Loss = 113090497.49296676\n",
      "Step 250 : Loss = 91331901.84729068\n",
      "Step 300 : Loss = 74420162.71889558\n",
      "Step 350 : Loss = 61824871.32401747\n",
      "Step 400 : Loss = 51087492.47244795\n",
      "Step 450 : Loss = 43997793.39645255\n",
      "Step 500 : Loss = 40677793.904976904\n",
      "Step 550 : Loss = 37262899.06724005\n",
      "Step 600 : Loss = 33629424.19730986\n",
      "Step 650 : Loss = 32274402.494653746\n",
      "Step 700 : Loss = 29523214.26887231\n",
      "Step 750 : Loss = 29835465.682323065\n",
      "Step 800 : Loss = 28089517.179473046\n",
      "Step 850 : Loss = 26732068.76644954\n",
      "Step 900 : Loss = 25053745.5753332\n",
      "Step 950 : Loss = 24046864.25321989\n",
      "Step 1000 : Loss = 24835330.618126992\n",
      "Step 1050 : Loss = 22814595.059687074\n",
      "Step 1100 : Loss = 22674479.962866303\n",
      "Step 1150 : Loss = 22386586.50549647\n",
      "Step 1200 : Loss = 21530594.96972373\n",
      "Step 1250 : Loss = 21898232.159778025\n",
      "Step 1300 : Loss = 20976210.39945049\n",
      "Step 1350 : Loss = 20311504.504661974\n",
      "Step 1400 : Loss = 20261972.157639273\n",
      "Step 1450 : Loss = 19465562.477252968\n",
      "Step 1500 : Loss = 19805279.474901937\n",
      "Step 1550 : Loss = 19298471.901231587\n",
      "Step 1600 : Loss = 19053462.964667566\n",
      "Step 1650 : Loss = 18655142.038293313\n",
      "Step 1700 : Loss = 18831233.410442255\n",
      "Step 1750 : Loss = 18859181.205891043\n",
      "Step 1800 : Loss = 18020058.62939053\n",
      "Step 1850 : Loss = 18209180.158449978\n",
      "Step 1900 : Loss = 17845857.110813387\n",
      "Step 1950 : Loss = 17568366.008896895\n",
      "Step 2000 : Loss = 17847131.489666723\n",
      "Step 2050 : Loss = 17507787.910300206\n",
      "Step 2100 : Loss = 17360955.040719107\n",
      "Step 2150 : Loss = 17212456.592452053\n",
      "Step 2200 : Loss = 17250660.172689077\n",
      "Step 2250 : Loss = 16775516.165630007\n",
      "Step 2300 : Loss = 16824115.09639585\n",
      "Step 2350 : Loss = 16883456.46722466\n",
      "Step 2400 : Loss = 16566951.414054042\n",
      "Step 2450 : Loss = 16223649.749628395\n",
      "Step 2500 : Loss = 15743176.318750253\n",
      "Step 2550 : Loss = 15592767.802609716\n",
      "Step 2600 : Loss = 15685690.439762687\n",
      "Step 2650 : Loss = 15505455.07126252\n",
      "Step 2700 : Loss = 15882315.647097092\n",
      "Step 2750 : Loss = 15517728.770243391\n",
      "Step 2800 : Loss = 15000819.972052557\n",
      "Step 2850 : Loss = 15175359.321010064\n",
      "Step 2900 : Loss = 15231269.67864213\n",
      "Step 2950 : Loss = 15095004.301549608\n",
      "Step 3000 : Loss = 15187547.694121948\n",
      "Step 3050 : Loss = 14866462.945489673\n",
      "Step 3100 : Loss = 14952676.044504711\n",
      "Step 3150 : Loss = 14670588.59990904\n",
      "Step 3200 : Loss = 14355247.918393243\n",
      "Step 3250 : Loss = 14561895.118447956\n",
      "Step 3300 : Loss = 14511648.154668361\n",
      "Step 3350 : Loss = 14433000.488860682\n",
      "Step 3400 : Loss = 14352773.755713286\n",
      "Step 3450 : Loss = 14080247.97192762\n",
      "Step 3500 : Loss = 13804226.723315638\n",
      "Step 3550 : Loss = 14091427.304813648\n",
      "Step 3600 : Loss = 14071496.442999136\n",
      "Step 3650 : Loss = 13498728.10167245\n",
      "Step 3700 : Loss = 13689683.7241198\n",
      "Step 3750 : Loss = 13601048.034292564\n",
      "Step 3800 : Loss = 13647535.346388126\n",
      "Step 3850 : Loss = 13853792.925955566\n",
      "Step 3900 : Loss = 13569588.894351222\n",
      "Step 3950 : Loss = 13545740.09980379\n",
      "Step 4000 : Loss = 13440070.554392666\n",
      "Step 4050 : Loss = 13543401.065082641\n",
      "Step 4100 : Loss = 13788122.787296312\n",
      "Step 4150 : Loss = 13395571.34918851\n",
      "Step 4200 : Loss = 12939654.867539437\n",
      "Step 4250 : Loss = 13111693.300232735\n",
      "Step 4300 : Loss = 13057179.346755194\n",
      "Step 4350 : Loss = 12963266.98285252\n",
      "Step 4400 : Loss = 13178442.401543858\n",
      "Step 4450 : Loss = 12905432.33579424\n",
      "Step 4500 : Loss = 12970287.127111457\n",
      "Step 4550 : Loss = 13373583.442553058\n",
      "Step 4600 : Loss = 13046186.49152799\n",
      "Step 4650 : Loss = 13060964.92884188\n",
      "Step 4700 : Loss = 12709546.070971327\n",
      "Step 4750 : Loss = 13091229.439942744\n",
      "Step 4800 : Loss = 12880368.922616601\n",
      "Step 4850 : Loss = 12971506.779897848\n",
      "Step 4900 : Loss = 12534190.95096656\n",
      "Step 4950 : Loss = 12803092.830609424\n",
      "CPU times: user 1d 11h 24min 23s, sys: 2h 10min 50s, total: 1d 13h 35min 14s\n",
      "Wall time: 5h 44min 56s\n"
     ]
    }
   ],
   "source": [
    "%%time\n",
    "\n",
    "# clear the param store in case we're in a REPL\n",
    "pyro.clear_param_store()\n",
    "\n",
    "# Initialize the model and guide\n",
    "model = Model(embedding_size, device).to(device)\n",
    "guide = Guide(device).to(device)\n",
    "\n",
    "# Set up the optimizer and inference algorithm\n",
    "optimizer = pyro.optim.Adam({\"lr\": 0.01})\n",
    "svi = pyro.infer.SVI(model=model, guide=guide, optim=optimizer, loss=pyro.infer.Trace_ELBO())\n",
    "\n",
    "# Run inference\n",
    "#num_batches = grouped_batch_sampler.__len__()\n",
    "num_iterations = 5_000\n",
    "with tqdm(total=num_iterations, desc=\"Epochs\", position=0) as epoch_pbar:\n",
    "    for step in range(num_iterations):\n",
    "    #with tqdm(total=num_batches, desc=f\"Epoch {step + 1}\", position=1, leave=False) as batch_pbar:\n",
    "        losses = []\n",
    "        for batch_id, batch in enumerate(DataLoader(dataset, batch_sampler=grouped_batch_sampler, num_workers=1)):\n",
    "            losses.append(svi.step(\n",
    "                batch_id=batch_id,\n",
    "                batch_idx=torch.arange(len(batch['id'])).to(device), \n",
    "                installments=batch['installment'].to(device), \n",
    "                loan_amnt=batch['loan_amnt'].to(device), \n",
    "                int_rate=batch['int_rate'].to(device),\n",
    "                total_pre_chargeoff=batch['total_pre_chargeoff'].to(device),\n",
    "                num_timesteps=batch['n_report_d'].unique().item()))\n",
    "            #batch_pbar.update(1)\n",
    "        if step % np.ceil(num_iterations/100) == 0:\n",
    "            print(f\"Step {step} : Loss = {np.sum(losses)}\")\n",
    "        epoch_pbar.update(1)\n"
   ]
  },
  {
   "cell_type": "markdown",
   "id": "eea7b2ac-0dba-462d-b932-a5ad924a4424",
   "metadata": {},
   "source": [
    "### Save the model\n",
    "\n",
    "Save model parameters to a file for inference in another notebook."
   ]
  },
  {
   "cell_type": "code",
   "execution_count": 11,
   "id": "ea583a7e-f054-4917-871e-5b5d96f9b780",
   "metadata": {},
   "outputs": [
    {
     "data": {
      "text/plain": [
       "Model()"
      ]
     },
     "execution_count": 11,
     "metadata": {},
     "output_type": "execute_result"
    }
   ],
   "source": [
    "model.to(device)"
   ]
  },
  {
   "cell_type": "code",
   "execution_count": 12,
   "id": "64fee799-415c-437b-ac84-0086dc1614dc",
   "metadata": {},
   "outputs": [],
   "source": [
    "pyro.get_param_store().save('param_store.pt')\n",
    "torch.save(model.state_dict(), 'model_params.pt')\n",
    "torch.save(guide.state_dict(), \"guide_params.pt\")"
   ]
  },
  {
   "cell_type": "code",
   "execution_count": null,
   "id": "977e1b4f-2e34-4832-867f-25ae0cce6a31",
   "metadata": {},
   "outputs": [],
   "source": []
  }
 ],
 "metadata": {
  "kernelspec": {
   "display_name": "Python 3 (ipykernel)",
   "language": "python",
   "name": "python3"
  },
  "language_info": {
   "codemirror_mode": {
    "name": "ipython",
    "version": 3
   },
   "file_extension": ".py",
   "mimetype": "text/x-python",
   "name": "python",
   "nbconvert_exporter": "python",
   "pygments_lexer": "ipython3",
   "version": "3.12.7"
  }
 },
 "nbformat": 4,
 "nbformat_minor": 5
}
