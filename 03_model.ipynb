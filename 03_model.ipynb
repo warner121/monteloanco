{
 "cells": [
  {
   "cell_type": "code",
   "execution_count": 1,
   "id": "268e7f39-482a-486c-90d4-8a3a78bea185",
   "metadata": {},
   "outputs": [],
   "source": [
    "import numpy as np\n",
    "import pandas as pd"
   ]
  },
  {
   "cell_type": "code",
   "execution_count": 2,
   "id": "b86555b1-c4f2-4583-8362-e5064bc10f1c",
   "metadata": {},
   "outputs": [],
   "source": [
    "import seaborn as sns\n",
    "import matplotlib.pylab as plt"
   ]
  },
  {
   "cell_type": "code",
   "execution_count": 3,
   "id": "9e3c911b-63a1-4f35-b19c-baa212379cd8",
   "metadata": {},
   "outputs": [],
   "source": [
    "import torch\n",
    "import torch.nn.functional as F\n",
    "import pyro"
   ]
  },
  {
   "cell_type": "code",
   "execution_count": 4,
   "id": "83943858-c552-4025-b50b-4295d48cfd26",
   "metadata": {},
   "outputs": [],
   "source": [
    "from torch.utils.data import DataLoader\n",
    "from tqdm.notebook import tqdm"
   ]
  },
  {
   "cell_type": "code",
   "execution_count": 5,
   "id": "0f357820-d105-4417-b3a6-e6c8bc965734",
   "metadata": {},
   "outputs": [],
   "source": [
    "from monteloanco import model, guide, GroupedBatchSampler, TransitionMatrixNet"
   ]
  },
  {
   "cell_type": "markdown",
   "id": "b13888b1-3478-458e-8e6a-a82d602bae58",
   "metadata": {},
   "source": [
    "### A deep state-space model for a consumer credit risk portfolio\n",
    "\n",
    "This notebook outlines the development of a deep state-space model for consumer credit risk, built using [pyro.ai](https://pyro.ai/). At its core, the model employs Monte Carlo simulations for each loan, progressing through monthly timesteps. The hidden state at each step represents the loan’s status, with all accounts initially starting as current. From there, loans may transition to early payoff, arrears, or more commonly, remain current and advance to the next month.\n",
    "\n",
    "The model requires 5 inputs: \n",
    "- `loan_amnt` the initial advance to the customer.\n",
    "- `int_rate` the annual interest rate (as a percentage).\n",
    "- `installment` the monthly payment according to the initial schedule.\n",
    "- `total_pre_chargeoff` the total value of payments made against the account excluding recoveries.\n",
    "- `num_timesteps` the number of months observed to date if training, or the desired length of the simulation.\n",
    "\n",
    "The output used for validation is a simulation of hidden states (loan statuses) and payments, plus how those payments are attributed to principal and interest. Behind the scenes, the model also trains an embedding based on the loan account identifier, which effectively captures the performance characteristics of each specific loan. This embedding may serve several purposes, including:\n",
    "- Simulating the performance of the existing portfolio.\n",
    "- Extending the installment schedule to maturity to estimate the portfolio’s value if allowed to run off.\n",
    "- Providing a low-dimensional representation of loan performance, enabling broader analysis beyond traditional good/bad account classifications for training applicant-level models.\n",
    "- Reducing to a single risk dimension that represents the probability of default over any given time horizon."
   ]
  },
  {
   "cell_type": "markdown",
   "id": "198c64a6-1968-4dbe-8d6b-fef808a5d37e",
   "metadata": {},
   "source": [
    "We take a subset of the 2+ million accounts available here for speed."
   ]
  },
  {
   "cell_type": "code",
   "execution_count": 6,
   "id": "b5538b0b-c5cf-485c-b479-63ffa9dcf26a",
   "metadata": {},
   "outputs": [],
   "source": [
    "df_train = pd.read_json('training.jsonl.gz', lines=True)\n",
    "pd.testing.assert_index_equal(df_train.index, pd.RangeIndex(0, len(df_train)))"
   ]
  },
  {
   "cell_type": "markdown",
   "id": "8104c3f1-851a-4b6e-9cf3-ebfc1db55a2e",
   "metadata": {},
   "source": [
    "The model has been designed such that it can train / simulate a large number of accounts in parallel on a GPU. If you don't have a suitable GPU installed on your machine simply replace `cuda:0` here with `cpu`.\n",
    "\n",
    "The data must be fed into the model in batches, where all sequences in a batch have the same length. We use the custom`GroupedBatchSampler` to define these batches."
   ]
  },
  {
   "cell_type": "code",
   "execution_count": 7,
   "id": "076a6faa-dfea-4735-ae72-a9007acaa078",
   "metadata": {},
   "outputs": [],
   "source": [
    "embedding_size = 3\n",
    "device = 'cuda:0'"
   ]
  },
  {
   "cell_type": "code",
   "execution_count": 8,
   "id": "06c32060-5994-4ef6-9246-876dfa3e497a",
   "metadata": {},
   "outputs": [],
   "source": [
    "batch_size = 100_000\n",
    "dataset = df_train[['id', 'loan_amnt', 'int_rate', 'installment', 'n_report_d', 'total_pre_chargeoff']].to_dict(orient='records')\n",
    "grouped_batch_sampler = GroupedBatchSampler(dataset, batch_size)"
   ]
  },
  {
   "cell_type": "markdown",
   "id": "9357ebc3-ecdf-4b59-ba89-b982ee873e48",
   "metadata": {},
   "source": [
    "### Train the model\n",
    "\n",
    "With the batches defined it's time to run the optimisation process, and tune the parameters. The loss here is the difference between the the total value of payments made on each account vs. those from the MC simulation."
   ]
  },
  {
   "cell_type": "code",
   "execution_count": 9,
   "id": "dcb9c7cd-a2a0-4daa-a8e6-e75ff164a303",
   "metadata": {},
   "outputs": [],
   "source": [
    "transition_net = TransitionMatrixNet(embedding_size, device=device).to(device)"
   ]
  },
  {
   "cell_type": "code",
   "execution_count": 10,
   "id": "47a40808-519b-4b18-87de-e062abd866c3",
   "metadata": {},
   "outputs": [
    {
     "data": {
      "application/vnd.jupyter.widget-view+json": {
       "model_id": "757e26cdbbec4194affc82bb94b04a0b",
       "version_major": 2,
       "version_minor": 0
      },
      "text/plain": [
       "Epochs:   0%|          | 0/5000 [00:00<?, ?it/s]"
      ]
     },
     "metadata": {},
     "output_type": "display_data"
    },
    {
     "name": "stdout",
     "output_type": "stream",
     "text": [
      "Step 0 : Loss = 178973954.52637252\n",
      "Step 50 : Loss = 165884450.95725507\n",
      "Step 100 : Loss = 147935356.88372484\n",
      "Step 150 : Loss = 130042577.39403778\n",
      "Step 200 : Loss = 115917604.16053168\n",
      "Step 250 : Loss = 108808760.92383014\n",
      "Step 300 : Loss = 99997734.18320751\n",
      "Step 350 : Loss = 97652751.18311207\n",
      "Step 400 : Loss = 95596472.83802983\n",
      "Step 450 : Loss = 90801084.32198785\n",
      "Step 500 : Loss = 88055032.656288\n",
      "Step 550 : Loss = 85157035.42829566\n",
      "Step 600 : Loss = 84199837.82423073\n",
      "Step 650 : Loss = 82577285.37509307\n",
      "Step 700 : Loss = 80822230.63323434\n",
      "Step 750 : Loss = 79271821.82688837\n",
      "Step 800 : Loss = 78375398.55629423\n",
      "Step 850 : Loss = 77687309.47699903\n",
      "Step 900 : Loss = 76229973.46984458\n",
      "Step 950 : Loss = 75410162.31318617\n",
      "Step 1000 : Loss = 74642245.85624616\n",
      "Step 1050 : Loss = 73876832.05166554\n",
      "Step 1100 : Loss = 74006136.5971561\n",
      "Step 1150 : Loss = 73021700.34380078\n",
      "Step 1200 : Loss = 71672404.36228782\n",
      "Step 1250 : Loss = 70905197.42338732\n",
      "Step 1300 : Loss = 70885762.79535067\n",
      "Step 1350 : Loss = 70607807.6486589\n",
      "Step 1400 : Loss = 70390893.55190012\n",
      "Step 1450 : Loss = 70112208.40385105\n",
      "Step 1500 : Loss = 69363599.83382845\n",
      "Step 1550 : Loss = 68652192.79012203\n",
      "Step 1600 : Loss = 68270432.63458252\n",
      "Step 1650 : Loss = 67641262.73324303\n",
      "Step 1700 : Loss = 68050473.72484574\n",
      "Step 1750 : Loss = 67260825.64987187\n",
      "Step 1800 : Loss = 67236253.08818008\n",
      "Step 1850 : Loss = 66830128.181155585\n",
      "Step 1900 : Loss = 67043939.27858546\n",
      "Step 1950 : Loss = 66894989.807458095\n",
      "Step 2000 : Loss = 66434600.31873119\n",
      "Step 2050 : Loss = 66247721.34194931\n",
      "Step 2100 : Loss = 66217131.30957149\n",
      "Step 2150 : Loss = 65723786.81695878\n",
      "Step 2200 : Loss = 65594944.600997485\n",
      "Step 2250 : Loss = 65571203.62269869\n",
      "Step 2300 : Loss = 65400324.39025716\n",
      "Step 2350 : Loss = 65125821.098961644\n",
      "Step 2400 : Loss = 65195768.792232595\n",
      "Step 2450 : Loss = 64894181.94525311\n",
      "Step 2500 : Loss = 64684837.76401715\n",
      "Step 2550 : Loss = 64803495.358944\n",
      "Step 2600 : Loss = 64208519.54379723\n",
      "Step 2650 : Loss = 64374378.498817585\n",
      "Step 2700 : Loss = 64232493.24390127\n",
      "Step 2750 : Loss = 64193290.28323269\n",
      "Step 2800 : Loss = 64007896.67481444\n",
      "Step 2850 : Loss = 64023158.21529239\n",
      "Step 2900 : Loss = 64006564.670884885\n",
      "Step 2950 : Loss = 64121302.275912516\n",
      "Step 3000 : Loss = 63615094.50328659\n",
      "Step 3050 : Loss = 63982422.91438305\n",
      "Step 3100 : Loss = 63708746.294268146\n",
      "Step 3150 : Loss = 63975393.1734421\n",
      "Step 3200 : Loss = 63710805.67071567\n",
      "Step 3250 : Loss = 63039704.21261127\n",
      "Step 3300 : Loss = 63242507.149844185\n",
      "Step 3350 : Loss = 63643489.02619121\n",
      "Step 3400 : Loss = 63185604.29534954\n",
      "Step 3450 : Loss = 63154892.36954437\n",
      "Step 3500 : Loss = 63192304.36349731\n",
      "Step 3550 : Loss = 63124454.02067759\n",
      "Step 3600 : Loss = 63062712.76620245\n",
      "Step 3650 : Loss = 63184340.64182312\n",
      "Step 3700 : Loss = 63120173.63959241\n",
      "Step 3750 : Loss = 63019700.42711921\n",
      "Step 3800 : Loss = 62763833.02773484\n",
      "Step 3850 : Loss = 62858852.776761845\n",
      "Step 3900 : Loss = 62774268.36282172\n",
      "Step 3950 : Loss = 62610896.47597533\n",
      "Step 4000 : Loss = 62623646.0396172\n",
      "Step 4050 : Loss = 62737091.46845554\n",
      "Step 4100 : Loss = 62575944.47258931\n",
      "Step 4150 : Loss = 62768648.530296184\n",
      "Step 4200 : Loss = 62569225.76683846\n",
      "Step 4250 : Loss = 62340121.20161359\n",
      "Step 4300 : Loss = 62440939.87847822\n",
      "Step 4350 : Loss = 62441127.53906994\n",
      "Step 4400 : Loss = 62337494.40926298\n",
      "Step 4450 : Loss = 62356912.81055732\n",
      "Step 4500 : Loss = 62503726.98985229\n",
      "Step 4550 : Loss = 62092234.94357546\n",
      "Step 4600 : Loss = 62346682.26898819\n",
      "Step 4650 : Loss = 61945159.52942003\n",
      "Step 4700 : Loss = 61991294.03149667\n",
      "Step 4750 : Loss = 61950062.67491848\n",
      "Step 4800 : Loss = 61591949.292277716\n",
      "Step 4850 : Loss = 62111069.74481437\n",
      "Step 4900 : Loss = 62100528.020815656\n",
      "Step 4950 : Loss = 61966974.02136073\n",
      "CPU times: user 6h 56min 17s, sys: 7min 32s, total: 7h 3min 49s\n",
      "Wall time: 5h 27min 5s\n"
     ]
    }
   ],
   "source": [
    "%%time\n",
    "\n",
    "# Clear the param store in case we're in a REPL\n",
    "pyro.clear_param_store()\n",
    "\n",
    "# Create partial functions with their respective parameters\n",
    "from functools import partial\n",
    "\n",
    "model_with_config = partial(model, \n",
    "                            embedding_size=embedding_size,\n",
    "                            device=device, \n",
    "                            transition_net=transition_net)\n",
    "\n",
    "guide_with_config = partial(guide, \n",
    "                            device=device)\n",
    "\n",
    "# Set up the optimizer and inference algorithm\n",
    "optimizer = pyro.optim.Adam({\"lr\": 0.01})\n",
    "svi = pyro.infer.SVI(model=model_with_config, guide=guide_with_config, \n",
    "                     optim=optimizer, loss=pyro.infer.Trace_ELBO())\n",
    "\n",
    "# Run inference\n",
    "num_iterations = 5_000\n",
    "\n",
    "with tqdm(total=num_iterations, desc=\"Epochs\", position=0) as epoch_pbar:\n",
    "    for step in range(num_iterations):\n",
    "        losses = []\n",
    "        for batch_id, batch in enumerate(DataLoader(dataset, batch_sampler=grouped_batch_sampler, num_workers=1)):\n",
    "            loss = svi.step(\n",
    "                batch_id=batch_id,\n",
    "                batch_idx=torch.arange(len(batch['id'])).to(device), \n",
    "                installments=batch['installment'].to(device), \n",
    "                loan_amnt=batch['loan_amnt'].to(device), \n",
    "                int_rate=batch['int_rate'].to(device),\n",
    "                total_pre_chargeoff=batch['total_pre_chargeoff'].to(device),\n",
    "                num_timesteps=batch['n_report_d'].unique().item()\n",
    "            )\n",
    "            losses.append(loss)\n",
    "            \n",
    "        if step % np.ceil(num_iterations/100) == 0:\n",
    "            print(f\"Step {step} : Loss = {np.sum(losses)}\")\n",
    "        epoch_pbar.update(1)"
   ]
  },
  {
   "cell_type": "markdown",
   "id": "eea7b2ac-0dba-462d-b932-a5ad924a4424",
   "metadata": {},
   "source": [
    "### Save the model\n",
    "\n",
    "Save model parameters to a file for inference in another notebook."
   ]
  },
  {
   "cell_type": "code",
   "execution_count": 11,
   "id": "64fee799-415c-437b-ac84-0086dc1614dc",
   "metadata": {},
   "outputs": [],
   "source": [
    "pyro.get_param_store().save('param_store.pt')"
   ]
  },
  {
   "cell_type": "code",
   "execution_count": null,
   "id": "43f05022-3679-4db2-89c9-d6fa0462b4b3",
   "metadata": {},
   "outputs": [],
   "source": []
  }
 ],
 "metadata": {
  "kernelspec": {
   "display_name": "Python 3 (ipykernel)",
   "language": "python",
   "name": "python3"
  },
  "language_info": {
   "codemirror_mode": {
    "name": "ipython",
    "version": 3
   },
   "file_extension": ".py",
   "mimetype": "text/x-python",
   "name": "python",
   "nbconvert_exporter": "python",
   "pygments_lexer": "ipython3",
   "version": "3.10.18"
  }
 },
 "nbformat": 4,
 "nbformat_minor": 5
}
