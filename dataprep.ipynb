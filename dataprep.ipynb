{
 "cells": [
  {
   "cell_type": "markdown",
   "id": "5c412784-b037-446e-ac21-41175a382c53",
   "metadata": {},
   "source": [
    "### Exploratory data analysis of the Lending Club peer-to-peer loan portfolio\n",
    "\n",
    "Lending Club, founded in 2006, was a pioneering peer-to-peer (P2P) lending platform in the US. It provided a marketplace where individual investors could fund loans directly for borrowers seeking personal loans, debt consolidation, or other financial needs.\n",
    "\n",
    "A snapshot of their lending data taken in April 2019 (featuring originations to the end of 2018) can be obtaing from kaggle:\n",
    "```\n",
    "#!/bin/bash\n",
    "curl -L -o ./lending-club.zip https://www.kaggle.com/api/v1/datasets/download/wordsforthewise/lending-club\n",
    "unzip lending-club.zip\n",
    "```\n",
    "\n",
    "First, let's load the data into a pandas dataframe so we can do some simple exploratory analysis."
   ]
  },
  {
   "cell_type": "code",
   "execution_count": 1,
   "id": "18a2e9ba-6dcd-4806-b8a5-ff84bf6f3b38",
   "metadata": {},
   "outputs": [],
   "source": [
    "import numpy as np\n",
    "import pandas as pd\n",
    "import seaborn as sns\n",
    "import matplotlib.pyplot as plt\n",
    "\n",
    "from tqdm.auto import tqdm\n",
    "tqdm.pandas()"
   ]
  },
  {
   "cell_type": "code",
   "execution_count": 2,
   "id": "4b38fa0c-8998-4374-8482-99f0c6230168",
   "metadata": {},
   "outputs": [],
   "source": [
    "df = pd.read_csv('../lendingclub/accepted_2007_to_2018Q4.csv.gz', low_memory=False)"
   ]
  },
  {
   "cell_type": "markdown",
   "id": "5e72b2b4-b819-4009-b0ba-85a1cc7df2b2",
   "metadata": {},
   "source": [
    "Drop loans with missing issue date."
   ]
  },
  {
   "cell_type": "code",
   "execution_count": 3,
   "id": "69feb307-7e5d-404b-9334-cba6c1d95e98",
   "metadata": {},
   "outputs": [
    {
     "data": {
      "text/plain": [
       "33"
      ]
     },
     "execution_count": 3,
     "metadata": {},
     "output_type": "execute_result"
    }
   ],
   "source": [
    "df.issue_d.isna().sum()"
   ]
  },
  {
   "cell_type": "code",
   "execution_count": 4,
   "id": "a435e4d4-2921-4651-bcb7-4e89151b8c3b",
   "metadata": {},
   "outputs": [],
   "source": [
    "df = df[df.issue_d.notna()].reset_index(drop=True)"
   ]
  },
  {
   "cell_type": "markdown",
   "id": "91a7a49e-bb76-405b-92e7-7133a8fb0175",
   "metadata": {},
   "source": [
    "Convert timestamps to appropriate data types."
   ]
  },
  {
   "cell_type": "code",
   "execution_count": 5,
   "id": "e0a85d70-0842-45d4-918d-0b21c5505f73",
   "metadata": {},
   "outputs": [],
   "source": [
    "df.issue_d = pd.to_datetime(df.issue_d, format='%b-%Y')\n",
    "df.last_pymnt_d = pd.to_datetime(df.last_pymnt_d, format='%b-%Y')\n",
    "df.next_pymnt_d = pd.to_datetime(df.next_pymnt_d, format='%b-%Y')"
   ]
  },
  {
   "cell_type": "markdown",
   "id": "2a638f05-584a-4bb8-a9ed-ad886ebcdcaa",
   "metadata": {},
   "source": [
    "If no pymnt have been made at all, ensure `last_pymnt_d` is populated even with the date of issue, and bump all month-0 pymnt to the following month."
   ]
  },
  {
   "cell_type": "code",
   "execution_count": 6,
   "id": "ecb94296-1206-4ebd-a3fc-f2385831e548",
   "metadata": {},
   "outputs": [],
   "source": [
    "df.last_pymnt_d = df.last_pymnt_d.combine_first(df.issue_d)\n",
    "df.loc[df.issue_d==df.last_pymnt_d, 'last_pymnt_d'] = df.last_pymnt_d + pd.tseries.offsets.DateOffset(months=1)"
   ]
  },
  {
   "attachments": {},
   "cell_type": "markdown",
   "id": "47fce02c-b670-4617-8466-62f1726dee13",
   "metadata": {},
   "source": [
    "### Limitations of a single monthly snapshot\n",
    "\n",
    "The dataset’s single monthly snapshot limits our ability to analyze loans consistently across their lifecycle—comparing new loans (e.g., 3 months old) with closed ones (e.g., 10+ years old) is like judging a film by one frame. For closed loans, did they repay early, late due to deferments, or because of arrears? For \"up-to-date\" loans, which faced past struggles or exceed their 60-month term? A single snapshot obscures these dynamics. Credit risk modeling demands time series data to fairly compare loans (e.g., 2007 vs. 2017 vintages) at equivalent lifecycle stages and to reconstruct behaviors—like payment momentum, deferment impacts, or hidden delinquency patterns—that define true risk.\n",
    "\n",
    "To bridge gaps, we’ll simulate a monthly time series up to April 2019. First, derive each loan’s expected payment schedule using its installment and term, including maturity dates. This lets us model deviations (e.g., early/late pymnt, deferments) and infer historical trends. Without this, we risk misjudging performance—such as labeling a loan “current” despite prior arrears—or overlooking systemic risks (e.g., cohorts prone to late-term defaults). Historical snapshots, even simulated, transform static data into a causal narrative, revealing how portfolios behave over time, not just where they stand today."
   ]
  },
  {
   "cell_type": "code",
   "execution_count": 7,
   "id": "81dccd11-445c-483f-ba5e-3c3af74df650",
   "metadata": {},
   "outputs": [],
   "source": [
    "df['term_numeric'] = pd.to_numeric(df.term.str.replace('months', ''), errors='coerce')\n",
    "df['maturity_d'] = df.apply(lambda x: x.issue_d + pd.tseries.offsets.DateOffset(months=x.term_numeric), axis=1)"
   ]
  },
  {
   "cell_type": "code",
   "execution_count": 8,
   "id": "71d24a63-0b75-46db-be79-eb91f5049616",
   "metadata": {},
   "outputs": [],
   "source": [
    "df['snapshot_date'] = df.last_pymnt_d.max()"
   ]
  },
  {
   "cell_type": "code",
   "execution_count": 9,
   "id": "8293e846-528a-4bae-a7b7-91e054f5c73e",
   "metadata": {},
   "outputs": [],
   "source": [
    "df['horizon_d'] = df[['maturity_d', 'snapshot_date']].max(axis=1)\n",
    "df['training_d'] = df[['maturity_d', 'snapshot_date']].min(axis=1)"
   ]
  },
  {
   "attachments": {},
   "cell_type": "markdown",
   "id": "f7967acb-b62b-4f10-bc6f-136a1036b820",
   "metadata": {},
   "source": [
    "### Inflate the dataset to represent the full monthly timeseries from the point of origination up to the true report date\n",
    "\n",
    "By enumerating a time series of expected installments from each loan’s issue date to the April 2019 snapshot, we create a dynamic timeline of anticipated pymnt. For loans where this timeline extends beyond their maturity date (e.g., a 60-month term ending in 2018), we mark post-maturity installment values as n/a—ensuring the model reflects contractual obligations, not speculative extrapolation. Using the loan_status, last_pymnt_d, and total_pymnt data, we approximate actual payment behavior against this baseline. For example, a loan marked \"charged off\" with sparse pymnt would show persistent gaps in its reconstructed timeline, while a \"fully paid\" loan might reveal early settlements or deferments.\n",
    "\n",
    "This basic attribution model serves as a starting point. Refinements—like incorporating principal/interest splits, fee assessments, or hardship flags—could resolve ambiguities (e.g., distinguishing forbearance from delinquency). Even in simplified form, however, the simulated time series transforms static snapshots into actionable narratives: How did prepymnt cluster in certain vintages? Did post-2015 loans exhibit slower principal reduction? While crude, this approach highlights systemic risks (e.g., cohorts with rising late-term defaults) and prioritizes gaps for deeper analysis. Future iterations can layer complexity, but even a \"placeholder\" timeline anchors credit risk in causality, not just cross-sectional snapshots."
   ]
  },
  {
   "cell_type": "code",
   "execution_count": 10,
   "id": "c9bd6d09-b197-4d98-a24a-10329a995ceb",
   "metadata": {},
   "outputs": [],
   "source": [
    "def basic_pymnt_attr(\n",
    "    horizon_d, \n",
    "    issue_d, \n",
    "    total_pymnt, \n",
    "    recoveries, \n",
    "    last_pymnt_amnt, \n",
    "    last_pymnt_d, \n",
    "    installment, \n",
    "    training_d,\n",
    "    **kwargs):\n",
    "\n",
    "    # numerate a sequence of report dates from issue to snapshot date\n",
    "    report_d = pd.date_range(issue_d, horizon_d, freq='MS', inclusive='right')\n",
    "    n_report_d = len(report_d)\n",
    "    n_pymnt = (report_d < last_pymnt_d).sum()\n",
    "\n",
    "    # spread the total pymnt made over the vector of months paid\n",
    "    with np.errstate(divide='ignore', invalid='ignore'):\n",
    "        pymnt = np.float32(total_pymnt - recoveries - last_pymnt_amnt) / n_pymnt\n",
    "    pymnt = np.full(n_report_d, pymnt)\n",
    "    pymnt[report_d >= last_pymnt_d] = 0\n",
    "\n",
    "    # surplus with respect to the initial schedule (indicative of paid early)\n",
    "    #surplus = pymnt - np.maximum(0, pymnt - installment)\n",
    "    #last_pymnt_amnt += np.nansum(surplus)\n",
    "\n",
    "    # calculate a mask for traing the data (i.e. up to maturity)\n",
    "    train = report_d <= training_d\n",
    "\n",
    "    # backload the surplus onto the last payment (will be 0 for charged off) and return\n",
    "    pymnt[report_d == last_pymnt_d] = last_pymnt_amnt\n",
    "    return pd.Series({\n",
    "        'pymnt': pymnt.tolist(), \n",
    "        'train': train.tolist()\n",
    "    })"
   ]
  },
  {
   "cell_type": "code",
   "execution_count": 11,
   "id": "72fd5516-c17c-46e9-be9b-f145aad0f755",
   "metadata": {},
   "outputs": [
    {
     "data": {
      "application/vnd.jupyter.widget-view+json": {
       "model_id": "50d51b63e302467b94a563bce7870880",
       "version_major": 2,
       "version_minor": 0
      },
      "text/plain": [
       "  0%|          | 0/2260668 [00:00<?, ?it/s]"
      ]
     },
     "metadata": {},
     "output_type": "display_data"
    }
   ],
   "source": [
    "df_ts = df.progress_apply(lambda x: basic_pymnt_attr(**x.squeeze()), axis=1).join(df.id)"
   ]
  },
  {
   "cell_type": "code",
   "execution_count": 12,
   "id": "b9649479-aa7d-43d3-b111-88df55c54317",
   "metadata": {},
   "outputs": [],
   "source": [
    "df_ts.to_json('accepted_2007_to_2018Q4.jsonl.gz', orient='records', lines=True)"
   ]
  },
  {
   "cell_type": "code",
   "execution_count": 13,
   "id": "03480d2c-2b61-4ee7-a81c-2b9b5c2a7730",
   "metadata": {},
   "outputs": [],
   "source": [
    "df_train = df_ts.sample(100_000, random_state=42).reset_index(drop=True)"
   ]
  },
  {
   "cell_type": "code",
   "execution_count": 14,
   "id": "433d07a2-8ba1-4c9a-9673-07083ffa0183",
   "metadata": {},
   "outputs": [],
   "source": [
    "df_train = df_train.merge(df[['id', 'installment', 'loan_amnt', 'int_rate']])"
   ]
  },
  {
   "cell_type": "code",
   "execution_count": 15,
   "id": "49ae7f7d-3fd0-42ca-af75-f009331d7cc5",
   "metadata": {},
   "outputs": [],
   "source": [
    "df_train.to_json('training.jsonl.gz', orient='records', lines=True)"
   ]
  },
  {
   "cell_type": "code",
   "execution_count": 16,
   "id": "2f4dd45e-3f91-46db-99f5-ddc15766566a",
   "metadata": {},
   "outputs": [
    {
     "data": {
      "text/html": [
       "<div>\n",
       "<style scoped>\n",
       "    .dataframe tbody tr th:only-of-type {\n",
       "        vertical-align: middle;\n",
       "    }\n",
       "\n",
       "    .dataframe tbody tr th {\n",
       "        vertical-align: top;\n",
       "    }\n",
       "\n",
       "    .dataframe thead th {\n",
       "        text-align: right;\n",
       "    }\n",
       "</style>\n",
       "<table border=\"1\" class=\"dataframe\">\n",
       "  <thead>\n",
       "    <tr style=\"text-align: right;\">\n",
       "      <th></th>\n",
       "      <th>pymnt</th>\n",
       "      <th>train</th>\n",
       "      <th>id</th>\n",
       "      <th>installment</th>\n",
       "      <th>loan_amnt</th>\n",
       "      <th>int_rate</th>\n",
       "    </tr>\n",
       "  </thead>\n",
       "  <tbody>\n",
       "    <tr>\n",
       "      <th>0</th>\n",
       "      <td>[859.7100446428572, 859.7100446428572, 859.710...</td>\n",
       "      <td>[True, True, True, True, True, True, True, Tru...</td>\n",
       "      <td>9785323</td>\n",
       "      <td>859.71</td>\n",
       "      <td>28000.0</td>\n",
       "      <td>6.62</td>\n",
       "    </tr>\n",
       "    <tr>\n",
       "      <th>1</th>\n",
       "      <td>[396.4228210449219, 396.4228210449219, 396.422...</td>\n",
       "      <td>[True, True, True, True, True, True, True, Tru...</td>\n",
       "      <td>78558461</td>\n",
       "      <td>424.07</td>\n",
       "      <td>10650.0</td>\n",
       "      <td>25.11</td>\n",
       "    </tr>\n",
       "    <tr>\n",
       "      <th>2</th>\n",
       "      <td>[588.514501953125, 588.514501953125, 588.51450...</td>\n",
       "      <td>[True, True, True, True, True, True, True, Tru...</td>\n",
       "      <td>110757806</td>\n",
       "      <td>588.54</td>\n",
       "      <td>18000.0</td>\n",
       "      <td>10.91</td>\n",
       "    </tr>\n",
       "    <tr>\n",
       "      <th>3</th>\n",
       "      <td>[142.36812337239584, 142.36812337239584, 142.3...</td>\n",
       "      <td>[True, True, True, True, True, True, True, Tru...</td>\n",
       "      <td>96668860</td>\n",
       "      <td>143.69</td>\n",
       "      <td>3975.0</td>\n",
       "      <td>17.99</td>\n",
       "    </tr>\n",
       "    <tr>\n",
       "      <th>4</th>\n",
       "      <td>[168.30764590992646, 168.30764590992646, 168.3...</td>\n",
       "      <td>[True, True, True, True, True, True, True, Tru...</td>\n",
       "      <td>118207599</td>\n",
       "      <td>168.81</td>\n",
       "      <td>4800.0</td>\n",
       "      <td>16.02</td>\n",
       "    </tr>\n",
       "    <tr>\n",
       "      <th>...</th>\n",
       "      <td>...</td>\n",
       "      <td>...</td>\n",
       "      <td>...</td>\n",
       "      <td>...</td>\n",
       "      <td>...</td>\n",
       "      <td>...</td>\n",
       "    </tr>\n",
       "    <tr>\n",
       "      <th>99995</th>\n",
       "      <td>[502.6505533854167, 502.6505533854167, 502.650...</td>\n",
       "      <td>[True, True, True, True, True, True, True, Tru...</td>\n",
       "      <td>115090136</td>\n",
       "      <td>503.35</td>\n",
       "      <td>24000.0</td>\n",
       "      <td>9.44</td>\n",
       "    </tr>\n",
       "    <tr>\n",
       "      <th>99996</th>\n",
       "      <td>[438.72006138392857, 438.72006138392857, 438.7...</td>\n",
       "      <td>[True, True, True, True, True, True, True, Tru...</td>\n",
       "      <td>3365462</td>\n",
       "      <td>438.72</td>\n",
       "      <td>13000.0</td>\n",
       "      <td>13.11</td>\n",
       "    </tr>\n",
       "    <tr>\n",
       "      <th>99997</th>\n",
       "      <td>[91.3834228515625, 91.3834228515625, 91.383422...</td>\n",
       "      <td>[True, True, True, True, True, True, True, Tru...</td>\n",
       "      <td>48605201</td>\n",
       "      <td>87.42</td>\n",
       "      <td>2500.0</td>\n",
       "      <td>15.61</td>\n",
       "    </tr>\n",
       "    <tr>\n",
       "      <th>99998</th>\n",
       "      <td>[223.24749755859375, 223.24749755859375, 223.2...</td>\n",
       "      <td>[True, True, True, True, True, True, True, Tru...</td>\n",
       "      <td>56117368</td>\n",
       "      <td>300.11</td>\n",
       "      <td>14400.0</td>\n",
       "      <td>9.17</td>\n",
       "    </tr>\n",
       "    <tr>\n",
       "      <th>99999</th>\n",
       "      <td>[871.8377878289474, 871.8377878289474, 871.837...</td>\n",
       "      <td>[True, True, True, True, True, True, True, Tru...</td>\n",
       "      <td>51879014</td>\n",
       "      <td>874.12</td>\n",
       "      <td>25000.0</td>\n",
       "      <td>15.61</td>\n",
       "    </tr>\n",
       "  </tbody>\n",
       "</table>\n",
       "<p>100000 rows × 6 columns</p>\n",
       "</div>"
      ],
      "text/plain": [
       "                                                   pymnt  \\\n",
       "0      [859.7100446428572, 859.7100446428572, 859.710...   \n",
       "1      [396.4228210449219, 396.4228210449219, 396.422...   \n",
       "2      [588.514501953125, 588.514501953125, 588.51450...   \n",
       "3      [142.36812337239584, 142.36812337239584, 142.3...   \n",
       "4      [168.30764590992646, 168.30764590992646, 168.3...   \n",
       "...                                                  ...   \n",
       "99995  [502.6505533854167, 502.6505533854167, 502.650...   \n",
       "99996  [438.72006138392857, 438.72006138392857, 438.7...   \n",
       "99997  [91.3834228515625, 91.3834228515625, 91.383422...   \n",
       "99998  [223.24749755859375, 223.24749755859375, 223.2...   \n",
       "99999  [871.8377878289474, 871.8377878289474, 871.837...   \n",
       "\n",
       "                                                   train         id  \\\n",
       "0      [True, True, True, True, True, True, True, Tru...    9785323   \n",
       "1      [True, True, True, True, True, True, True, Tru...   78558461   \n",
       "2      [True, True, True, True, True, True, True, Tru...  110757806   \n",
       "3      [True, True, True, True, True, True, True, Tru...   96668860   \n",
       "4      [True, True, True, True, True, True, True, Tru...  118207599   \n",
       "...                                                  ...        ...   \n",
       "99995  [True, True, True, True, True, True, True, Tru...  115090136   \n",
       "99996  [True, True, True, True, True, True, True, Tru...    3365462   \n",
       "99997  [True, True, True, True, True, True, True, Tru...   48605201   \n",
       "99998  [True, True, True, True, True, True, True, Tru...   56117368   \n",
       "99999  [True, True, True, True, True, True, True, Tru...   51879014   \n",
       "\n",
       "       installment  loan_amnt  int_rate  \n",
       "0           859.71    28000.0      6.62  \n",
       "1           424.07    10650.0     25.11  \n",
       "2           588.54    18000.0     10.91  \n",
       "3           143.69     3975.0     17.99  \n",
       "4           168.81     4800.0     16.02  \n",
       "...            ...        ...       ...  \n",
       "99995       503.35    24000.0      9.44  \n",
       "99996       438.72    13000.0     13.11  \n",
       "99997        87.42     2500.0     15.61  \n",
       "99998       300.11    14400.0      9.17  \n",
       "99999       874.12    25000.0     15.61  \n",
       "\n",
       "[100000 rows x 6 columns]"
      ]
     },
     "execution_count": 16,
     "metadata": {},
     "output_type": "execute_result"
    }
   ],
   "source": [
    "df_train"
   ]
  },
  {
   "cell_type": "code",
   "execution_count": null,
   "id": "2ad1b84c-56ea-44c8-a149-5f92625f09ce",
   "metadata": {},
   "outputs": [],
   "source": []
  }
 ],
 "metadata": {
  "kernelspec": {
   "display_name": "Python 3 (ipykernel)",
   "language": "python",
   "name": "python3"
  },
  "language_info": {
   "codemirror_mode": {
    "name": "ipython",
    "version": 3
   },
   "file_extension": ".py",
   "mimetype": "text/x-python",
   "name": "python",
   "nbconvert_exporter": "python",
   "pygments_lexer": "ipython3",
   "version": "3.12.7"
  }
 },
 "nbformat": 4,
 "nbformat_minor": 5
}
