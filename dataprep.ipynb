{
 "cells": [
  {
   "cell_type": "markdown",
   "id": "5c412784-b037-446e-ac21-41175a382c53",
   "metadata": {},
   "source": [
    "### Exploratory data analysis of the Lending Club peer-to-peer loan portfolio\n",
    "\n",
    "Lending Club, founded in 2006, was a pioneering peer-to-peer (P2P) lending platform in the US. It provided a marketplace where individual investors could fund loans directly for borrowers seeking personal loans, debt consolidation, or other financial needs.\n",
    "\n",
    "A snapshot of their lending data taken in April 2019 (featuring originations to the end of 2018) can be obtaing from kaggle:\n",
    "```\n",
    "#!/bin/bash\n",
    "curl -L -o ./lending-club.zip https://www.kaggle.com/api/v1/datasets/download/wordsforthewise/lending-club\n",
    "unzip lending-club.zip\n",
    "```\n",
    "\n",
    "First, let's load the data into a pandas dataframe so we can do some simple exploratory analysis."
   ]
  },
  {
   "cell_type": "code",
   "execution_count": 1,
   "id": "18a2e9ba-6dcd-4806-b8a5-ff84bf6f3b38",
   "metadata": {},
   "outputs": [],
   "source": [
    "import numpy as np\n",
    "import pandas as pd\n",
    "import seaborn as sns\n",
    "import matplotlib.pyplot as plt\n",
    "\n",
    "from tqdm.auto import tqdm\n",
    "tqdm.pandas()"
   ]
  },
  {
   "cell_type": "code",
   "execution_count": 2,
   "id": "4b38fa0c-8998-4374-8482-99f0c6230168",
   "metadata": {},
   "outputs": [],
   "source": [
    "df = pd.read_csv('../lendingclub/accepted_2007_to_2018Q4.csv.gz', low_memory=False)"
   ]
  },
  {
   "cell_type": "markdown",
   "id": "5e72b2b4-b819-4009-b0ba-85a1cc7df2b2",
   "metadata": {},
   "source": [
    "Drop loans with missing issue date."
   ]
  },
  {
   "cell_type": "code",
   "execution_count": 3,
   "id": "69feb307-7e5d-404b-9334-cba6c1d95e98",
   "metadata": {},
   "outputs": [
    {
     "data": {
      "text/plain": [
       "33"
      ]
     },
     "execution_count": 3,
     "metadata": {},
     "output_type": "execute_result"
    }
   ],
   "source": [
    "df.issue_d.isna().sum()"
   ]
  },
  {
   "cell_type": "code",
   "execution_count": 4,
   "id": "a435e4d4-2921-4651-bcb7-4e89151b8c3b",
   "metadata": {},
   "outputs": [],
   "source": [
    "df = df[df.issue_d.notna()].reset_index(drop=True)"
   ]
  },
  {
   "cell_type": "markdown",
   "id": "91a7a49e-bb76-405b-92e7-7133a8fb0175",
   "metadata": {},
   "source": [
    "Convert timestamps to appropriate data types."
   ]
  },
  {
   "cell_type": "code",
   "execution_count": 5,
   "id": "e0a85d70-0842-45d4-918d-0b21c5505f73",
   "metadata": {},
   "outputs": [],
   "source": [
    "df.issue_d = pd.to_datetime(df.issue_d, format='%b-%Y')\n",
    "df.last_pymnt_d = pd.to_datetime(df.last_pymnt_d, format='%b-%Y')\n",
    "df.next_pymnt_d = pd.to_datetime(df.next_pymnt_d, format='%b-%Y')"
   ]
  },
  {
   "cell_type": "code",
   "execution_count": 6,
   "id": "71d24a63-0b75-46db-be79-eb91f5049616",
   "metadata": {},
   "outputs": [],
   "source": [
    "snapshot_date = df.last_pymnt_d.max()"
   ]
  },
  {
   "cell_type": "markdown",
   "id": "2a638f05-584a-4bb8-a9ed-ad886ebcdcaa",
   "metadata": {},
   "source": [
    "If no pymnt have been made at all, ensure `last_pymnt_d` is populated even with the date of issue, and bump all month-0 pymnt to the following month."
   ]
  },
  {
   "cell_type": "code",
   "execution_count": 7,
   "id": "ecb94296-1206-4ebd-a3fc-f2385831e548",
   "metadata": {},
   "outputs": [],
   "source": [
    "df.last_pymnt_d = df.last_pymnt_d.combine_first(df.issue_d)\n",
    "df.loc[df.issue_d==df.last_pymnt_d, 'last_pymnt_d'] = df.last_pymnt_d + pd.tseries.offsets.DateOffset(months=1)"
   ]
  },
  {
   "attachments": {},
   "cell_type": "markdown",
   "id": "47fce02c-b670-4617-8466-62f1726dee13",
   "metadata": {},
   "source": [
    "### Limitations of a single monthly snapshot\n",
    "\n",
    "The dataset’s single monthly snapshot limits our ability to analyze loans consistently across their lifecycle—comparing new loans (e.g., 3 months old) with closed ones (e.g., 10+ years old) is like judging a film by one frame. For closed loans, did they repay early, late due to deferments, or because of arrears? For \"up-to-date\" loans, which faced past struggles or exceed their 60-month term? A single snapshot obscures these dynamics. Credit risk modeling demands time series data to fairly compare loans (e.g., 2007 vs. 2017 vintages) at equivalent lifecycle stages and to reconstruct behaviors—like payment momentum, deferment impacts, or hidden delinquency patterns—that define true risk.\n",
    "\n",
    "To bridge gaps, we’ll simulate a monthly time series up to April 2019. First, derive each loan’s expected payment schedule using its installment and term, including maturity dates. This lets us model deviations (e.g., early/late pymnt, deferments) and infer historical trends. Without this, we risk misjudging performance—such as labeling a loan “current” despite prior arrears—or overlooking systemic risks (e.g., cohorts prone to late-term defaults). Historical snapshots, even simulated, transform static data into a causal narrative, revealing how portfolios behave over time, not just where they stand today."
   ]
  },
  {
   "cell_type": "code",
   "execution_count": 8,
   "id": "81dccd11-445c-483f-ba5e-3c3af74df650",
   "metadata": {},
   "outputs": [],
   "source": [
    "df['term_numeric'] = pd.to_numeric(df.term.str.replace('months', ''), errors='coerce')\n",
    "df['maturity_d'] = df.apply(lambda x: x.issue_d + pd.tseries.offsets.DateOffset(months=x.term_numeric), axis=1)"
   ]
  },
  {
   "attachments": {},
   "cell_type": "markdown",
   "id": "f7967acb-b62b-4f10-bc6f-136a1036b820",
   "metadata": {},
   "source": [
    "### Inflate the dataset to represent the full monthly timeseries from the point of origination up to the true report date\n",
    "\n",
    "By enumerating a time series of expected installments from each loan’s issue date to the April 2019 snapshot, we create a dynamic timeline of anticipated pymnt. For loans where this timeline extends beyond their maturity date (e.g., a 60-month term ending in 2018), we mark post-maturity installment values as n/a—ensuring the model reflects contractual obligations, not speculative extrapolation. Using the loan_status, last_pymnt_d, and total_pymnt data, we approximate actual payment behavior against this baseline. For example, a loan marked \"charged off\" with sparse pymnt would show persistent gaps in its reconstructed timeline, while a \"fully paid\" loan might reveal early settlements or deferments.\n",
    "\n",
    "This basic attribution model serves as a starting point. Refinements—like incorporating principal/interest splits, fee assessments, or hardship flags—could resolve ambiguities (e.g., distinguishing forbearance from delinquency). Even in simplified form, however, the simulated time series transforms static snapshots into actionable narratives: How did prepymnt cluster in certain vintages? Did post-2015 loans exhibit slower principal reduction? While crude, this approach highlights systemic risks (e.g., cohorts with rising late-term defaults) and prioritizes gaps for deeper analysis. Future iterations can layer complexity, but even a \"placeholder\" timeline anchors credit risk in causality, not just cross-sectional snapshots."
   ]
  },
  {
   "cell_type": "code",
   "execution_count": 9,
   "id": "c9bd6d09-b197-4d98-a24a-10329a995ceb",
   "metadata": {},
   "outputs": [],
   "source": [
    "def basic_pymnt_attr(\n",
    "    snapshot_date, \n",
    "    issue_d, \n",
    "    total_pymnt, \n",
    "    recoveries, \n",
    "    last_pymnt_amnt, \n",
    "    last_pymnt_d, \n",
    "    installment, \n",
    "    maturity_d,\n",
    "    **kwargs):\n",
    "\n",
    "    # numerate a sequence of report dates from issue to snapshot date\n",
    "    report_d = pd.date_range(issue_d, snapshot_date, freq='MS', inclusive='right')\n",
    "    n_report_d = len(report_d)\n",
    "    n_pymnt = (report_d < last_pymnt_d).sum()\n",
    "\n",
    "    # spread the total pymnt made over the vector of months paid\n",
    "    with np.errstate(divide='ignore', invalid='ignore'):\n",
    "        pymnt = np.float32(total_pymnt - recoveries - last_pymnt_amnt) / n_pymnt\n",
    "    pymnt = np.full(n_report_d, pymnt)\n",
    "    pymnt[report_d >= last_pymnt_d] = 0\n",
    "\n",
    "    # surplus with respect to the initial schedule (indicative of paid early)\n",
    "    #surplus = pymnt - np.maximum(0, pymnt - installment)\n",
    "    #last_pymnt_amnt += np.nansum(surplus)\n",
    "\n",
    "    # calculate a mask for traing the data (i.e. up to maturity)\n",
    "    train = report_d <= maturity_d\n",
    "\n",
    "    # backload the surplus onto the last payment (will be 0 for charged off) and return\n",
    "    pymnt[report_d == last_pymnt_d] = last_pymnt_amnt\n",
    "    return pd.Series({\n",
    "        'pymnt': pymnt.tolist(), \n",
    "        'train': train.tolist()\n",
    "    })"
   ]
  },
  {
   "cell_type": "code",
   "execution_count": 10,
   "id": "72fd5516-c17c-46e9-be9b-f145aad0f755",
   "metadata": {},
   "outputs": [
    {
     "data": {
      "application/vnd.jupyter.widget-view+json": {
       "model_id": "1d2f71cc0dab4ed085d3cc1525fc600f",
       "version_major": 2,
       "version_minor": 0
      },
      "text/plain": [
       "  0%|          | 0/2260668 [00:00<?, ?it/s]"
      ]
     },
     "metadata": {},
     "output_type": "display_data"
    }
   ],
   "source": [
    "df = df.progress_apply(lambda x: basic_pymnt_attr(snapshot_date, **x.squeeze()), axis=1).join(df.id)"
   ]
  },
  {
   "cell_type": "code",
   "execution_count": 17,
   "id": "5807e445-4761-47d1-aa96-7921751d5b85",
   "metadata": {},
   "outputs": [
    {
     "data": {
      "text/html": [
       "<div>\n",
       "<style scoped>\n",
       "    .dataframe tbody tr th:only-of-type {\n",
       "        vertical-align: middle;\n",
       "    }\n",
       "\n",
       "    .dataframe tbody tr th {\n",
       "        vertical-align: top;\n",
       "    }\n",
       "\n",
       "    .dataframe thead th {\n",
       "        text-align: right;\n",
       "    }\n",
       "</style>\n",
       "<table border=\"1\" class=\"dataframe\">\n",
       "  <thead>\n",
       "    <tr style=\"text-align: right;\">\n",
       "      <th></th>\n",
       "      <th>pymnt</th>\n",
       "      <th>train</th>\n",
       "      <th>id</th>\n",
       "    </tr>\n",
       "  </thead>\n",
       "  <tbody>\n",
       "    <tr>\n",
       "      <th>0</th>\n",
       "      <td>[119.41815863715277, 119.41815863715277, 119.4...</td>\n",
       "      <td>[True, True, True, True, True, True, True, Tru...</td>\n",
       "      <td>68407277</td>\n",
       "    </tr>\n",
       "    <tr>\n",
       "      <th>1</th>\n",
       "      <td>[4950.662109375, 4950.662109375, 4950.66210937...</td>\n",
       "      <td>[True, True, True, True, True, True, True, Tru...</td>\n",
       "      <td>68355089</td>\n",
       "    </tr>\n",
       "    <tr>\n",
       "      <th>2</th>\n",
       "      <td>[405.44850068933823, 405.44850068933823, 405.4...</td>\n",
       "      <td>[True, True, True, True, True, True, True, Tru...</td>\n",
       "      <td>68341763</td>\n",
       "    </tr>\n",
       "    <tr>\n",
       "      <th>3</th>\n",
       "      <td>[827.948902027027, 827.948902027027, 827.94890...</td>\n",
       "      <td>[True, True, True, True, True, True, True, Tru...</td>\n",
       "      <td>66310712</td>\n",
       "    </tr>\n",
       "    <tr>\n",
       "      <th>4</th>\n",
       "      <td>[268.5900065104167, 268.5900065104167, 268.590...</td>\n",
       "      <td>[True, True, True, True, True, True, True, Tru...</td>\n",
       "      <td>68476807</td>\n",
       "    </tr>\n",
       "    <tr>\n",
       "      <th>...</th>\n",
       "      <td>...</td>\n",
       "      <td>...</td>\n",
       "      <td>...</td>\n",
       "    </tr>\n",
       "    <tr>\n",
       "      <th>2260663</th>\n",
       "      <td>[543.4642857142857, 543.4642857142857, 543.464...</td>\n",
       "      <td>[True, True, True, True, True, True, True, Tru...</td>\n",
       "      <td>89885898</td>\n",
       "    </tr>\n",
       "    <tr>\n",
       "      <th>2260664</th>\n",
       "      <td>[517.5996442522321, 517.5996442522321, 517.599...</td>\n",
       "      <td>[True, True, True, True, True, True, True, Tru...</td>\n",
       "      <td>88977788</td>\n",
       "    </tr>\n",
       "    <tr>\n",
       "      <th>2260665</th>\n",
       "      <td>[858.7274693080357, 858.7274693080357, 858.727...</td>\n",
       "      <td>[True, True, True, True, True, True, True, Tru...</td>\n",
       "      <td>88985880</td>\n",
       "    </tr>\n",
       "    <tr>\n",
       "      <th>2260666</th>\n",
       "      <td>[562.8036221590909, 562.8036221590909, 562.803...</td>\n",
       "      <td>[True, True, True, True, True, True, True, Tru...</td>\n",
       "      <td>88224441</td>\n",
       "    </tr>\n",
       "    <tr>\n",
       "      <th>2260667</th>\n",
       "      <td>[331.85428292410717, 331.85428292410717, 331.8...</td>\n",
       "      <td>[True, True, True, True, True, True, True, Tru...</td>\n",
       "      <td>88215728</td>\n",
       "    </tr>\n",
       "  </tbody>\n",
       "</table>\n",
       "<p>2260668 rows × 3 columns</p>\n",
       "</div>"
      ],
      "text/plain": [
       "                                                     pymnt  \\\n",
       "0        [119.41815863715277, 119.41815863715277, 119.4...   \n",
       "1        [4950.662109375, 4950.662109375, 4950.66210937...   \n",
       "2        [405.44850068933823, 405.44850068933823, 405.4...   \n",
       "3        [827.948902027027, 827.948902027027, 827.94890...   \n",
       "4        [268.5900065104167, 268.5900065104167, 268.590...   \n",
       "...                                                    ...   \n",
       "2260663  [543.4642857142857, 543.4642857142857, 543.464...   \n",
       "2260664  [517.5996442522321, 517.5996442522321, 517.599...   \n",
       "2260665  [858.7274693080357, 858.7274693080357, 858.727...   \n",
       "2260666  [562.8036221590909, 562.8036221590909, 562.803...   \n",
       "2260667  [331.85428292410717, 331.85428292410717, 331.8...   \n",
       "\n",
       "                                                     train        id  \n",
       "0        [True, True, True, True, True, True, True, Tru...  68407277  \n",
       "1        [True, True, True, True, True, True, True, Tru...  68355089  \n",
       "2        [True, True, True, True, True, True, True, Tru...  68341763  \n",
       "3        [True, True, True, True, True, True, True, Tru...  66310712  \n",
       "4        [True, True, True, True, True, True, True, Tru...  68476807  \n",
       "...                                                    ...       ...  \n",
       "2260663  [True, True, True, True, True, True, True, Tru...  89885898  \n",
       "2260664  [True, True, True, True, True, True, True, Tru...  88977788  \n",
       "2260665  [True, True, True, True, True, True, True, Tru...  88985880  \n",
       "2260666  [True, True, True, True, True, True, True, Tru...  88224441  \n",
       "2260667  [True, True, True, True, True, True, True, Tru...  88215728  \n",
       "\n",
       "[2260668 rows x 3 columns]"
      ]
     },
     "execution_count": 17,
     "metadata": {},
     "output_type": "execute_result"
    }
   ],
   "source": [
    "df"
   ]
  },
  {
   "cell_type": "code",
   "execution_count": 18,
   "id": "b9649479-aa7d-43d3-b111-88df55c54317",
   "metadata": {},
   "outputs": [],
   "source": [
    "df.to_json('accepted_2007_to_2018Q4.jsonl.gz', orient='records', lines=True)"
   ]
  },
  {
   "cell_type": "code",
   "execution_count": null,
   "id": "03480d2c-2b61-4ee7-a81c-2b9b5c2a7730",
   "metadata": {},
   "outputs": [],
   "source": []
  }
 ],
 "metadata": {
  "kernelspec": {
   "display_name": "Python 3 (ipykernel)",
   "language": "python",
   "name": "python3"
  },
  "language_info": {
   "codemirror_mode": {
    "name": "ipython",
    "version": 3
   },
   "file_extension": ".py",
   "mimetype": "text/x-python",
   "name": "python",
   "nbconvert_exporter": "python",
   "pygments_lexer": "ipython3",
   "version": "3.12.7"
  }
 },
 "nbformat": 4,
 "nbformat_minor": 5
}
